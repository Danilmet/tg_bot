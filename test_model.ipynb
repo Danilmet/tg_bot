{
 "cells": [
  {
   "cell_type": "code",
   "id": "3430dcc1",
   "metadata": {
    "ExecuteTime": {
     "end_time": "2024-04-15T10:07:21.931664Z",
     "start_time": "2024-04-15T10:07:21.928988Z"
    }
   },
   "source": [
    "import pandas as pd\n",
    "from transformers import pipeline\n",
    "from sklearn.metrics import f1_score"
   ],
   "outputs": [],
   "execution_count": 241
  },
  {
   "metadata": {},
   "cell_type": "markdown",
   "source": "#### Переменные",
   "id": "7f0ad733893be099"
  },
  {
   "cell_type": "code",
   "id": "4589f909",
   "metadata": {
    "ExecuteTime": {
     "end_time": "2024-04-15T10:07:21.935509Z",
     "start_time": "2024-04-15T10:07:21.932664Z"
    }
   },
   "source": [
    "MODEL_TASK = \"sentiment-analysis\"\n",
    "MODEL_NAME = \"./models/sbert_plus\"\n",
    "DATASET_NAME = \"./datasets/ru-plus.csv\""
   ],
   "outputs": [],
   "execution_count": 242
  },
  {
   "metadata": {},
   "cell_type": "markdown",
   "source": "#### Классификатор",
   "id": "c23f7d2573edb9a3"
  },
  {
   "cell_type": "code",
   "id": "05231971",
   "metadata": {
    "ExecuteTime": {
     "end_time": "2024-04-15T10:07:22.425722Z",
     "start_time": "2024-04-15T10:07:21.935509Z"
    }
   },
   "source": "classifier = pipeline(MODEL_TASK, model=MODEL_NAME)",
   "outputs": [],
   "execution_count": 243
  },
  {
   "metadata": {},
   "cell_type": "markdown",
   "source": "#### Загружаем данные",
   "id": "b5b487a5e2a1e067"
  },
  {
   "cell_type": "code",
   "id": "d8eb7ec3",
   "metadata": {
    "ExecuteTime": {
     "end_time": "2024-04-15T10:07:22.429502Z",
     "start_time": "2024-04-15T10:07:22.425722Z"
    }
   },
   "source": [
    "df = pd.read_csv(DATASET_NAME, delimiter=\"|\")\n",
    "df.columns = ['text', 'label']\n",
    "df['label'] = df['label'].astype(int)"
   ],
   "outputs": [],
   "execution_count": 244
  },
  {
   "metadata": {},
   "cell_type": "markdown",
   "source": "#### Тексты для классификации",
   "id": "b810c19fcc4639ee"
  },
  {
   "cell_type": "code",
   "id": "c3040770",
   "metadata": {
    "ExecuteTime": {
     "end_time": "2024-04-15T10:07:22.433583Z",
     "start_time": "2024-04-15T10:07:22.429502Z"
    }
   },
   "source": [
    "texts = df['text'].tolist()\n",
    "labels = df['label'].tolist()"
   ],
   "outputs": [],
   "execution_count": 245
  },
  {
   "metadata": {},
   "cell_type": "markdown",
   "source": "#### Классификация текстов",
   "id": "ebaeb3ade6b94fda"
  },
  {
   "cell_type": "code",
   "id": "6b7ee5d9",
   "metadata": {
    "ExecuteTime": {
     "end_time": "2024-04-15T10:07:31.387048Z",
     "start_time": "2024-04-15T10:07:22.433583Z"
    }
   },
   "source": "results = classifier(texts)",
   "outputs": [],
   "execution_count": 246
  },
  {
   "metadata": {},
   "cell_type": "markdown",
   "source": "#### Вывод неверных результатов",
   "id": "777aab2fcff9de6c"
  },
  {
   "cell_type": "code",
   "id": "f59ca1e5",
   "metadata": {
    "ExecuteTime": {
     "end_time": "2024-04-15T10:07:31.390040Z",
     "start_time": "2024-04-15T10:07:31.387048Z"
    }
   },
   "source": [
    "LABEL_MAP = {\n",
    "    'LABEL_0': 0,\n",
    "    'LABEL_1': 1,\n",
    "    'LABEL_2': 2,\n",
    "}\n",
    "counter = 0\n",
    "\n",
    "for text, label, result in zip(texts, labels, results):\n",
    "    if LABEL_MAP[result['label']] != label:\n",
    "        counter += 1\n",
    "        print(f\"Текст: {text}\")\n",
    "        print(f\"Предсказано: {LABEL_MAP[result['label']]}, Значение: {label} Оценка: {result['score']}\")\n",
    "        print()\n",
    "        \n",
    "print(f\"Всего ошибочно: {counter}\")"
   ],
   "outputs": [
    {
     "name": "stdout",
     "output_type": "stream",
     "text": [
      "Всего ошибочно: 0\n"
     ]
    }
   ],
   "execution_count": 247
  },
  {
   "metadata": {},
   "cell_type": "markdown",
   "source": "#### Расчет f1-score",
   "id": "3850c19fc64f3e4f"
  },
  {
   "metadata": {
    "ExecuteTime": {
     "end_time": "2024-04-15T10:07:31.397829Z",
     "start_time": "2024-04-15T10:07:31.390040Z"
    }
   },
   "cell_type": "code",
   "source": [
    "def map_func(el):\n",
    "    return LABEL_MAP[el['label']]\n",
    "maped_results = list(map(map_func, results))\n",
    "\n",
    "f1 = f1_score(labels, maped_results, average='macro')\n",
    "print(f\"F1 Score: {f1}\")"
   ],
   "id": "35a686cb6480f857",
   "outputs": [
    {
     "name": "stdout",
     "output_type": "stream",
     "text": [
      "F1 Score: 1.0\n"
     ]
    }
   ],
   "execution_count": 248
  }
 ],
 "metadata": {
  "jupytext": {
   "cell_metadata_filter": "-all",
   "main_language": "python",
   "notebook_metadata_filter": "-all"
  },
  "kernelspec": {
   "name": "python3",
   "language": "python",
   "display_name": "Python 3 (ipykernel)"
  }
 },
 "nbformat": 4,
 "nbformat_minor": 5
}
