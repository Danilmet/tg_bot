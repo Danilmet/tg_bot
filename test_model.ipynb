{
 "cells": [
  {
   "cell_type": "code",
   "id": "3430dcc1",
   "metadata": {
    "ExecuteTime": {
     "end_time": "2024-04-11T20:57:16.703135Z",
     "start_time": "2024-04-11T20:57:13.737203Z"
    }
   },
   "source": [
    "import pandas as pd\n",
    "from transformers import pipeline\n",
    "from sklearn.metrics import f1_score"
   ],
   "outputs": [
    {
     "name": "stderr",
     "output_type": "stream",
     "text": [
      "/Users/d.metelev/PycharmProjects/test_bot/.venv/lib/python3.9/site-packages/urllib3/__init__.py:35: NotOpenSSLWarning: urllib3 v2 only supports OpenSSL 1.1.1+, currently the 'ssl' module is compiled with 'LibreSSL 2.8.3'. See: https://github.com/urllib3/urllib3/issues/3020\n",
      "  warnings.warn(\n"
     ]
    }
   ],
   "execution_count": 1
  },
  {
   "metadata": {},
   "cell_type": "markdown",
   "source": "#### Переменные",
   "id": "7f0ad733893be099"
  },
  {
   "cell_type": "code",
   "id": "4589f909",
   "metadata": {
    "ExecuteTime": {
     "end_time": "2024-04-11T20:57:16.706303Z",
     "start_time": "2024-04-11T20:57:16.704279Z"
    }
   },
   "source": [
    "MODEL_TASK = \"sentiment-analysis\"\n",
    "MODEL_NAME = \"./models/sbert_pretrained\"\n",
    "DATASET_NAME = \"./datasets/ru.csv\""
   ],
   "outputs": [],
   "execution_count": 2
  },
  {
   "metadata": {},
   "cell_type": "markdown",
   "source": "#### Классификатор",
   "id": "c23f7d2573edb9a3"
  },
  {
   "cell_type": "code",
   "id": "05231971",
   "metadata": {
    "ExecuteTime": {
     "end_time": "2024-04-11T20:57:17.404467Z",
     "start_time": "2024-04-11T20:57:16.707018Z"
    }
   },
   "source": "classifier = pipeline(MODEL_TASK, model=MODEL_NAME)",
   "outputs": [],
   "execution_count": 3
  },
  {
   "metadata": {},
   "cell_type": "markdown",
   "source": "#### Загружаем данные",
   "id": "b5b487a5e2a1e067"
  },
  {
   "cell_type": "code",
   "id": "d8eb7ec3",
   "metadata": {
    "ExecuteTime": {
     "end_time": "2024-04-11T20:57:17.411369Z",
     "start_time": "2024-04-11T20:57:17.405561Z"
    }
   },
   "source": [
    "df = pd.read_csv(DATASET_NAME, delimiter=\"|\")\n",
    "df.columns = ['text', 'label']\n",
    "df['label'] = df['label'].astype(int)"
   ],
   "outputs": [],
   "execution_count": 4
  },
  {
   "metadata": {},
   "cell_type": "markdown",
   "source": "#### Тексты для классификации",
   "id": "b810c19fcc4639ee"
  },
  {
   "cell_type": "code",
   "id": "c3040770",
   "metadata": {
    "ExecuteTime": {
     "end_time": "2024-04-11T20:57:17.416062Z",
     "start_time": "2024-04-11T20:57:17.413860Z"
    }
   },
   "source": [
    "texts = df['text'].tolist()\n",
    "labels = df['label'].tolist()"
   ],
   "outputs": [],
   "execution_count": 5
  },
  {
   "metadata": {},
   "cell_type": "markdown",
   "source": "#### Классификация текстов",
   "id": "ebaeb3ade6b94fda"
  },
  {
   "cell_type": "code",
   "id": "6b7ee5d9",
   "metadata": {
    "ExecuteTime": {
     "end_time": "2024-04-11T20:57:36.664141Z",
     "start_time": "2024-04-11T20:57:17.417157Z"
    }
   },
   "source": "results = classifier(texts)",
   "outputs": [],
   "execution_count": 6
  },
  {
   "metadata": {},
   "cell_type": "markdown",
   "source": "#### Вывод неверных результатов",
   "id": "777aab2fcff9de6c"
  },
  {
   "cell_type": "code",
   "id": "f59ca1e5",
   "metadata": {
    "ExecuteTime": {
     "end_time": "2024-04-11T20:57:36.668436Z",
     "start_time": "2024-04-11T20:57:36.665249Z"
    }
   },
   "source": [
    "LABEL_MAP = {\n",
    "    'LABEL_0': 0,\n",
    "    'LABEL_1': 1,\n",
    "    'LABEL_2': 2,\n",
    "}\n",
    "\n",
    "for text, label, result in zip(texts, labels, results):\n",
    "    if LABEL_MAP[result['label']] != label:\n",
    "        print(f\"Текст: {text}\")\n",
    "        print(f\"Предсказано: {LABEL_MAP[result['label']]}, Значение: {label} Оценка: {result['score']}\")\n",
    "        print()"
   ],
   "outputs": [
    {
     "name": "stdout",
     "output_type": "stream",
     "text": [
      "Текст: Привет, как дела?\n",
      "Предсказано: 1, Значение: 0 Оценка: 0.9957446455955505\n",
      "\n",
      "Текст: Какие у тебя планы на вечер?\n",
      "Предсказано: 1, Значение: 2 Оценка: 0.9685974717140198\n",
      "\n",
      "Текст: До свидания\n",
      "Предсказано: 0, Значение: 2 Оценка: 0.9946723580360413\n",
      "\n",
      "Текст: Как прошел день?\n",
      "Предсказано: 1, Значение: 2 Оценка: 0.9926908612251282\n",
      "\n",
      "Текст: Как ты относишься к спорту?\n",
      "Предсказано: 1, Значение: 2 Оценка: 0.9390012621879578\n",
      "\n"
     ]
    }
   ],
   "execution_count": 7
  },
  {
   "metadata": {},
   "cell_type": "markdown",
   "source": "#### Расчет f1-score",
   "id": "3850c19fc64f3e4f"
  },
  {
   "metadata": {
    "ExecuteTime": {
     "end_time": "2024-04-11T21:02:35.682238Z",
     "start_time": "2024-04-11T21:02:35.675775Z"
    }
   },
   "cell_type": "code",
   "source": [
    "def map_func(el):\n",
    "    return LABEL_MAP[el['label']]\n",
    "maped_results = list(map(map_func, results))\n",
    "\n",
    "f1 = f1_score(labels, maped_results, average='macro')\n",
    "print(f\"F1 Score: {f1}\")"
   ],
   "id": "35a686cb6480f857",
   "outputs": [
    {
     "name": "stdout",
     "output_type": "stream",
     "text": [
      "F1 Score: 0.9686747678550957\n"
     ]
    }
   ],
   "execution_count": 11
  }
 ],
 "metadata": {
  "jupytext": {
   "cell_metadata_filter": "-all",
   "main_language": "python",
   "notebook_metadata_filter": "-all"
  },
  "kernelspec": {
   "name": "python3",
   "language": "python",
   "display_name": "Python 3 (ipykernel)"
  }
 },
 "nbformat": 4,
 "nbformat_minor": 5
}
