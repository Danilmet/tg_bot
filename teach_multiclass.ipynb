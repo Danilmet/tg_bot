{
 "cells": [
  {
   "metadata": {
    "ExecuteTime": {
     "end_time": "2024-04-23T20:36:54.273800Z",
     "start_time": "2024-04-23T20:36:53.653681Z"
    }
   },
   "cell_type": "code",
   "source": [
    "import evaluate\n",
    "import pandas as pd\n",
    "import numpy as np\n",
    "\n",
    "from datasets import Dataset\n",
    "from sklearn.model_selection import train_test_split\n",
    "from transformers import (AutoTokenizer, AutoModelForSequenceClassification, TrainingArguments, Trainer, EarlyStoppingCallback)\n",
    "\n",
    "DATASET_NAME = \"./datasets/ru-plus.csv\"\n",
    "TEST_SIZE = 0.2\n",
    "MODEL_NAME = \"ai-forever/sbert_large_nlu_ru\"\n",
    "SAVE_DIRECTORY = \"./models/sbert_plus_multi\"\n",
    "OUTPUT_LOG_NAME = \"./output/sbert_plus_multi\"\n",
    "\n",
    "THRESHOLD = 0.9\n",
    "\n",
    "df = pd.read_csv(DATASET_NAME, delimiter=\"|\")\n",
    "df.columns = [\"text\", \"label\"]\n",
    "df_label_0 = df[df[\"label\"] == 0]\n",
    "df_label_1 = df[df[\"label\"] == 1]\n",
    "multi_class = []\n",
    "for i in range(50):\n",
    "    row_0 = df_label_0.sample(n=1, random_state=np.random.RandomState())\n",
    "    row_1 = df_label_1.sample(n=1, random_state=np.random.RandomState())\n",
    "    text = f\"{row_0['text'].values[0]}, {row_1['text'].values[0].lower()}\"\n",
    "    multi_class.append({'text': text, 'label': 3})\n",
    "\n",
    "df = pd.concat([df, pd.DataFrame(multi_class)], ignore_index=True)\n",
    "df['label'] = df['label'].map({0: [1, 0, 0], 1: [0, 1, 0], 2: [0, 0, 1], 3: [1, 1, 0]})"
   ],
   "id": "3e1cf9d591d945f6",
   "outputs": [],
   "execution_count": 4
  },
  {
   "metadata": {
    "ExecuteTime": {
     "end_time": "2024-04-23T20:36:54.297044Z",
     "start_time": "2024-04-23T20:36:54.273800Z"
    }
   },
   "cell_type": "code",
   "source": [
    "train, test_valid = train_test_split(df, test_size=TEST_SIZE, shuffle=True)\n",
    "train = Dataset.from_pandas(train)\n",
    "test, valid = train_test_split(test_valid, test_size=0.5)\n",
    "test_ds = Dataset.from_pandas(test)\n",
    "valid = Dataset.from_pandas(valid)"
   ],
   "id": "b6134dd10bb8c1e",
   "outputs": [],
   "execution_count": 5
  },
  {
   "metadata": {
    "ExecuteTime": {
     "end_time": "2024-04-23T20:36:54.954157Z",
     "start_time": "2024-04-23T20:36:54.297044Z"
    }
   },
   "cell_type": "code",
   "source": [
    "def tokenize_function(examples):\n",
    "    return tokenizer(examples[\"text\"], padding=\"max_length\", truncation=True, max_length=128)\n",
    "\n",
    "tokenizer = AutoTokenizer.from_pretrained(MODEL_NAME)\n",
    "tokenized_train = train.map(tokenize_function)\n",
    "tokenized_test = test_ds.map(tokenize_function)\n",
    "tokenized_valid = valid.map(tokenize_function)"
   ],
   "id": "94eaacab51d17e68",
   "outputs": [
    {
     "data": {
      "text/plain": [
       "Map:   0%|          | 0/222 [00:00<?, ? examples/s]"
      ],
      "application/vnd.jupyter.widget-view+json": {
       "version_major": 2,
       "version_minor": 0,
       "model_id": "3c6ff4606ca04ff7b75d80f86f926a88"
      }
     },
     "metadata": {},
     "output_type": "display_data"
    },
    {
     "data": {
      "text/plain": [
       "Map:   0%|          | 0/28 [00:00<?, ? examples/s]"
      ],
      "application/vnd.jupyter.widget-view+json": {
       "version_major": 2,
       "version_minor": 0,
       "model_id": "1a5298999b40429a9e3090e774e0a803"
      }
     },
     "metadata": {},
     "output_type": "display_data"
    },
    {
     "data": {
      "text/plain": [
       "Map:   0%|          | 0/28 [00:00<?, ? examples/s]"
      ],
      "application/vnd.jupyter.widget-view+json": {
       "version_major": 2,
       "version_minor": 0,
       "model_id": "44d5114fc7c7418fbf4294790257f39c"
      }
     },
     "metadata": {},
     "output_type": "display_data"
    }
   ],
   "execution_count": 6
  },
  {
   "metadata": {
    "ExecuteTime": {
     "end_time": "2024-04-23T20:36:56.039880Z",
     "start_time": "2024-04-23T20:36:54.955161Z"
    }
   },
   "cell_type": "code",
   "source": [
    "model = AutoModelForSequenceClassification.from_pretrained(\n",
    "    MODEL_NAME,\n",
    "    num_labels=3,\n",
    "    problem_type=\"multi_label_classification\",\n",
    ")"
   ],
   "id": "65a1ca84822cd186",
   "outputs": [
    {
     "name": "stderr",
     "output_type": "stream",
     "text": [
      "Some weights of BertForSequenceClassification were not initialized from the model checkpoint at ai-forever/sbert_large_nlu_ru and are newly initialized: ['classifier.bias', 'classifier.weight']\n",
      "You should probably TRAIN this model on a down-stream task to be able to use it for predictions and inference.\n"
     ]
    }
   ],
   "execution_count": 7
  },
  {
   "metadata": {
    "ExecuteTime": {
     "end_time": "2024-04-23T20:36:56.111727Z",
     "start_time": "2024-04-23T20:36:56.039880Z"
    }
   },
   "cell_type": "code",
   "source": [
    "training_args = TrainingArguments(\n",
    "    output_dir=OUTPUT_LOG_NAME,\n",
    "    learning_rate=1e-5,\n",
    "    evaluation_strategy=\"epoch\",\n",
    "    logging_strategy=\"epoch\",\n",
    "    save_strategy='epoch',\n",
    "    per_device_train_batch_size=16,\n",
    "    per_device_eval_batch_size=16,\n",
    "    num_train_epochs=32,\n",
    "    load_best_model_at_end=True,\n",
    "    report_to=\"none\"\n",
    ")"
   ],
   "id": "be518cf8f252f21",
   "outputs": [],
   "execution_count": 8
  },
  {
   "metadata": {
    "ExecuteTime": {
     "end_time": "2024-04-23T20:37:02.689852Z",
     "start_time": "2024-04-23T20:36:56.111727Z"
    }
   },
   "cell_type": "code",
   "source": [
    "clf_metrics = evaluate.combine([\"accuracy\", \"f1\", \"precision\", \"recall\"])\n",
    "\n",
    "def predict(val):\n",
    "    return (val > THRESHOLD).astype(int).reshape(-1)\n",
    "\n",
    "def compute_metrics(eval_pred):\n",
    "   predictions, labels = eval_pred\n",
    "   return clf_metrics.compute(predictions=predict(predictions), references=labels.astype(int).reshape(-1))"
   ],
   "id": "6c0f2dd32e9c5778",
   "outputs": [],
   "execution_count": 9
  },
  {
   "metadata": {
    "ExecuteTime": {
     "end_time": "2024-04-23T20:38:30.982127Z",
     "start_time": "2024-04-23T20:37:02.689852Z"
    }
   },
   "cell_type": "code",
   "source": [
    "early_stopper = EarlyStoppingCallback(early_stopping_threshold=0.0001)\n",
    "\n",
    "trainer = Trainer(\n",
    "    model=model,\n",
    "    args=training_args,\n",
    "    train_dataset=tokenized_train,\n",
    "    eval_dataset=tokenized_valid,\n",
    "    compute_metrics=compute_metrics,\n",
    "    callbacks=[early_stopper]\n",
    ")\n",
    "trainer.train()"
   ],
   "id": "fff133add8b59180",
   "outputs": [
    {
     "name": "stderr",
     "output_type": "stream",
     "text": [
      "C:\\Users\\Danilmet\\PycharmProjects\\tg_bot\\venv\\Lib\\site-packages\\accelerate\\accelerator.py:436: FutureWarning: Passing the following arguments to `Accelerator` is deprecated and will be removed in version 1.0 of Accelerate: dict_keys(['dispatch_batches', 'split_batches', 'even_batches', 'use_seedable_sampler']). Please pass an `accelerate.DataLoaderConfiguration` instead: \n",
      "dataloader_config = DataLoaderConfiguration(dispatch_batches=None, split_batches=False, even_batches=True, use_seedable_sampler=True)\n",
      "  warnings.warn(\n"
     ]
    },
    {
     "data": {
      "text/plain": [
       "<IPython.core.display.HTML object>"
      ],
      "text/html": [
       "\n",
       "    <div>\n",
       "      \n",
       "      <progress value='15' max='448' style='width:300px; height:20px; vertical-align: middle;'></progress>\n",
       "      [ 15/448 00:03 < 02:07, 3.40 it/s, Epoch 1/32]\n",
       "    </div>\n",
       "    <table border=\"1\" class=\"dataframe\">\n",
       "  <thead>\n",
       " <tr style=\"text-align: left;\">\n",
       "      <th>Epoch</th>\n",
       "      <th>Training Loss</th>\n",
       "      <th>Validation Loss</th>\n",
       "    </tr>\n",
       "  </thead>\n",
       "  <tbody>\n",
       "  </tbody>\n",
       "</table><p>\n",
       "    <div>\n",
       "      \n",
       "      <progress value='2' max='2' style='width:300px; height:20px; vertical-align: middle;'></progress>\n",
       "      [2/2 00:00]\n",
       "    </div>\n",
       "    "
      ]
     },
     "metadata": {},
     "output_type": "display_data"
    },
    {
     "data": {
      "text/plain": [
       "<IPython.core.display.HTML object>"
      ],
      "text/html": [
       "\n",
       "    <div>\n",
       "      \n",
       "      <progress value='140' max='448' style='width:300px; height:20px; vertical-align: middle;'></progress>\n",
       "      [140/448 01:27 < 03:14, 1.58 it/s, Epoch 10/32]\n",
       "    </div>\n",
       "    <table border=\"1\" class=\"dataframe\">\n",
       "  <thead>\n",
       " <tr style=\"text-align: left;\">\n",
       "      <th>Epoch</th>\n",
       "      <th>Training Loss</th>\n",
       "      <th>Validation Loss</th>\n",
       "      <th>Accuracy</th>\n",
       "      <th>F1</th>\n",
       "      <th>Precision</th>\n",
       "      <th>Recall</th>\n",
       "    </tr>\n",
       "  </thead>\n",
       "  <tbody>\n",
       "    <tr>\n",
       "      <td>1</td>\n",
       "      <td>0.611700</td>\n",
       "      <td>0.520028</td>\n",
       "      <td>0.619048</td>\n",
       "      <td>0.000000</td>\n",
       "      <td>0.000000</td>\n",
       "      <td>0.000000</td>\n",
       "    </tr>\n",
       "    <tr>\n",
       "      <td>2</td>\n",
       "      <td>0.432700</td>\n",
       "      <td>0.370569</td>\n",
       "      <td>0.797619</td>\n",
       "      <td>0.638298</td>\n",
       "      <td>1.000000</td>\n",
       "      <td>0.468750</td>\n",
       "    </tr>\n",
       "    <tr>\n",
       "      <td>3</td>\n",
       "      <td>0.303600</td>\n",
       "      <td>0.269767</td>\n",
       "      <td>0.845238</td>\n",
       "      <td>0.745098</td>\n",
       "      <td>1.000000</td>\n",
       "      <td>0.593750</td>\n",
       "    </tr>\n",
       "    <tr>\n",
       "      <td>4</td>\n",
       "      <td>0.210000</td>\n",
       "      <td>0.192087</td>\n",
       "      <td>0.928571</td>\n",
       "      <td>0.900000</td>\n",
       "      <td>0.964286</td>\n",
       "      <td>0.843750</td>\n",
       "    </tr>\n",
       "    <tr>\n",
       "      <td>5</td>\n",
       "      <td>0.144800</td>\n",
       "      <td>0.132778</td>\n",
       "      <td>0.976190</td>\n",
       "      <td>0.968750</td>\n",
       "      <td>0.968750</td>\n",
       "      <td>0.968750</td>\n",
       "    </tr>\n",
       "    <tr>\n",
       "      <td>6</td>\n",
       "      <td>0.097200</td>\n",
       "      <td>0.098587</td>\n",
       "      <td>0.988095</td>\n",
       "      <td>0.984127</td>\n",
       "      <td>1.000000</td>\n",
       "      <td>0.968750</td>\n",
       "    </tr>\n",
       "    <tr>\n",
       "      <td>7</td>\n",
       "      <td>0.069500</td>\n",
       "      <td>0.087064</td>\n",
       "      <td>0.976190</td>\n",
       "      <td>0.968750</td>\n",
       "      <td>0.968750</td>\n",
       "      <td>0.968750</td>\n",
       "    </tr>\n",
       "    <tr>\n",
       "      <td>8</td>\n",
       "      <td>0.054000</td>\n",
       "      <td>0.071353</td>\n",
       "      <td>0.976190</td>\n",
       "      <td>0.968750</td>\n",
       "      <td>0.968750</td>\n",
       "      <td>0.968750</td>\n",
       "    </tr>\n",
       "    <tr>\n",
       "      <td>9</td>\n",
       "      <td>0.044000</td>\n",
       "      <td>0.065042</td>\n",
       "      <td>0.976190</td>\n",
       "      <td>0.968750</td>\n",
       "      <td>0.968750</td>\n",
       "      <td>0.968750</td>\n",
       "    </tr>\n",
       "    <tr>\n",
       "      <td>10</td>\n",
       "      <td>0.037500</td>\n",
       "      <td>0.065392</td>\n",
       "      <td>0.976190</td>\n",
       "      <td>0.968750</td>\n",
       "      <td>0.968750</td>\n",
       "      <td>0.968750</td>\n",
       "    </tr>\n",
       "  </tbody>\n",
       "</table><p>"
      ]
     },
     "metadata": {},
     "output_type": "display_data"
    },
    {
     "data": {
      "text/plain": [
       "TrainOutput(global_step=140, training_loss=0.20051504501274653, metrics={'train_runtime': 87.856, 'train_samples_per_second': 80.86, 'train_steps_per_second': 5.099, 'total_flos': 517223654231040.0, 'train_loss': 0.20051504501274653, 'epoch': 10.0})"
      ]
     },
     "execution_count": 10,
     "metadata": {},
     "output_type": "execute_result"
    }
   ],
   "execution_count": 10
  },
  {
   "metadata": {
    "ExecuteTime": {
     "end_time": "2024-04-23T20:38:32.115319Z",
     "start_time": "2024-04-23T20:38:30.983144Z"
    }
   },
   "cell_type": "code",
   "source": [
    "tokenizer.save_pretrained(SAVE_DIRECTORY)\n",
    "model.save_pretrained(SAVE_DIRECTORY)"
   ],
   "id": "65e9caf2fd9cbf7c",
   "outputs": [],
   "execution_count": 11
  },
  {
   "metadata": {},
   "cell_type": "markdown",
   "source": "#### Проверка на тестовой выборке",
   "id": "e0450fefc5ad01db"
  },
  {
   "metadata": {
    "ExecuteTime": {
     "end_time": "2024-04-23T21:17:00.932570Z",
     "start_time": "2024-04-23T21:16:59.534782Z"
    }
   },
   "cell_type": "code",
   "source": [
    "from transformers import pipeline\n",
    "\n",
    "MODEL_TASK = \"sentiment-analysis\"\n",
    "classifier = pipeline(MODEL_TASK, model=model, tokenizer=tokenizer, top_k=3)\n",
    "texts = test['text'].tolist()\n",
    "labels = test['label'].tolist()\n",
    "\n",
    "results = classifier(texts)"
   ],
   "id": "b6d97bb10a8d6dba",
   "outputs": [],
   "execution_count": 24
  },
  {
   "metadata": {
    "ExecuteTime": {
     "end_time": "2024-04-23T21:17:02.139221Z",
     "start_time": "2024-04-23T21:17:02.135907Z"
    }
   },
   "cell_type": "code",
   "source": [
    "counter = 0\n",
    "mapped_results = []\n",
    "\n",
    "for text, label, result in zip(texts, labels, results):\n",
    "    res = {el['label']: 1 if el['score'] > THRESHOLD else 0 for el in result}\n",
    "    mapped = [res['LABEL_0'], res['LABEL_1'], res['LABEL_2']]\n",
    "    mapped_results.append(mapped)\n",
    "    if mapped != label:\n",
    "        counter += 1\n",
    "        print(f\"Текст: {text}\")\n",
    "        print(f\"Предсказано: {mapped}, Значение: {label}, Результат: {result}\")\n",
    "        print()\n",
    "        \n",
    "print(f\"Всего ошибочно: {counter}\")"
   ],
   "id": "d2bf85fe90211bab",
   "outputs": [
    {
     "name": "stdout",
     "output_type": "stream",
     "text": [
      "Текст: Спасибо большое\n",
      "Предсказано: [0, 0, 0], Значение: [0, 0, 1], Результат: [{'label': 'LABEL_0', 'score': 0.8931328058242798}, {'label': 'LABEL_2', 'score': 0.11061996221542358}, {'label': 'LABEL_1', 'score': 0.03522563353180885}]\n",
      "\n",
      "Всего ошибочно: 1\n"
     ]
    }
   ],
   "execution_count": 25
  },
  {
   "metadata": {
    "ExecuteTime": {
     "end_time": "2024-04-23T21:17:07.822989Z",
     "start_time": "2024-04-23T21:17:07.802623Z"
    }
   },
   "cell_type": "code",
   "source": "clf_metrics.compute(predictions=np.array(mapped_results).reshape(-1), references=np.array(labels).reshape(-1))",
   "id": "7d4e4129afe95675",
   "outputs": [
    {
     "data": {
      "text/plain": [
       "{'accuracy': 0.9880952380952381,\n",
       " 'f1': 0.9866666666666667,\n",
       " 'precision': 1.0,\n",
       " 'recall': 0.9736842105263158}"
      ]
     },
     "execution_count": 26,
     "metadata": {},
     "output_type": "execute_result"
    }
   ],
   "execution_count": 26
  }
 ],
 "metadata": {
  "kernelspec": {
   "display_name": "Python 3",
   "language": "python",
   "name": "python3"
  },
  "language_info": {
   "codemirror_mode": {
    "name": "ipython",
    "version": 2
   },
   "file_extension": ".py",
   "mimetype": "text/x-python",
   "name": "python",
   "nbconvert_exporter": "python",
   "pygments_lexer": "ipython2",
   "version": "2.7.6"
  }
 },
 "nbformat": 4,
 "nbformat_minor": 5
}
