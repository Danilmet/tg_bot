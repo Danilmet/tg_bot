{
 "cells": [
  {
   "metadata": {
    "ExecuteTime": {
     "end_time": "2024-04-18T16:45:31.749173Z",
     "start_time": "2024-04-18T16:45:28.597716Z"
    }
   },
   "cell_type": "code",
   "source": [
    "from transformers import AutoModelForSequenceClassification, AutoTokenizer, pipeline\n",
    "MODEL_NAME = \"./models/sbert_plus_multi\"\n",
    "MODEL_TASK = \"sentiment-analysis\"\n",
    "\n",
    "LABELS = ['greeting', 'how are you', 'unknown']\n",
    "LABEL_MAP = {i: LABELS[i] for i in range(0, len(LABELS))}\n",
    "ID_MAP = {value: key for key, value in LABEL_MAP.items()}\n",
    "\n",
    "model = AutoModelForSequenceClassification.from_pretrained(MODEL_NAME, id2label=LABEL_MAP, label2id=ID_MAP)\n",
    "tokenizer = AutoTokenizer.from_pretrained(MODEL_NAME, return_tensors=\"pt\", padding=True, truncation=True, max_length=128)\n",
    "clf = pipeline(task=MODEL_TASK, model=model, tokenizer=tokenizer, top_k=3)"
   ],
   "id": "b22aa8f3aec289de",
   "outputs": [],
   "execution_count": 1
  },
  {
   "metadata": {
    "ExecuteTime": {
     "end_time": "2024-04-18T16:45:31.920064Z",
     "start_time": "2024-04-18T16:45:31.749173Z"
    }
   },
   "cell_type": "code",
   "source": [
    "import pandas as pd\n",
    "import numpy as np\n",
    "\n",
    "DATASET_NAME = \"./datasets/ru-plus.csv\"\n",
    "\n",
    "df = pd.read_csv(DATASET_NAME, delimiter=\"|\")\n",
    "df.columns = ['text', 'label']\n",
    "df['label'] = df['label'].astype(int)\n",
    "df_label_0 = df[df[\"label\"] == 0]\n",
    "df_label_1 = df[df[\"label\"] == 1]\n",
    "multi_class = []\n",
    "for i in range(50):\n",
    "    row_0 = df_label_0.sample(n=1, random_state=np.random.RandomState())\n",
    "    row_1 = df_label_1.sample(n=1, random_state=np.random.RandomState())\n",
    "    text = f\"{row_0['text'].values[0]}, {row_1['text'].values[0].lower()}\"\n",
    "    multi_class.append({'text': text, 'label': 3})\n",
    "\n",
    "df = pd.concat([df, pd.DataFrame(multi_class)], ignore_index=True)\n",
    "df['label'] = df['label'].map({0: [1, 0, 0], 1: [0, 1, 0], 2: [0, 0, 1], 3: [1, 1, 0]})\n",
    "\n",
    "texts = df['text'].tolist()\n",
    "labels = df['label'].tolist()"
   ],
   "id": "d42c64ea602dd61",
   "outputs": [],
   "execution_count": 2
  },
  {
   "metadata": {
    "ExecuteTime": {
     "end_time": "2024-04-18T16:45:44.682684Z",
     "start_time": "2024-04-18T16:45:31.920064Z"
    }
   },
   "cell_type": "code",
   "source": "results = clf(texts)",
   "id": "b7814b4e7affd52a",
   "outputs": [],
   "execution_count": 3
  },
  {
   "metadata": {
    "ExecuteTime": {
     "end_time": "2024-04-18T16:45:44.686190Z",
     "start_time": "2024-04-18T16:45:44.682684Z"
    }
   },
   "cell_type": "code",
   "source": [
    "THRESHOLD = 0.9\n",
    "\n",
    "counter = 0\n",
    "\n",
    "for text, label, result in zip(texts, labels, results):\n",
    "    res = {el['label']: 1 if el['score'] > THRESHOLD else 0 for el in result}\n",
    "    mapped = [res['greeting'], res['how are you'], res['unknown']]\n",
    "    if mapped != label:\n",
    "        counter += 1\n",
    "        print(f\"Текст: {text}\")\n",
    "        print(f\"Предсказано: {mapped}, Значение: {label}, Результат: {result}\")\n",
    "        print()\n",
    "        \n",
    "print(f\"Всего ошибочно: {counter}\")"
   ],
   "id": "b17aed57e6672fcf",
   "outputs": [
    {
     "name": "stdout",
     "output_type": "stream",
     "text": [
      "Текст: Нормально?\n",
      "Предсказано: [0, 0, 0], Значение: [0, 0, 1], Результат: [{'label': 'how are you', 'score': 0.856216311454773}, {'label': 'unknown', 'score': 0.20529615879058838}, {'label': 'greeting', 'score': 0.002385381842032075}]\n",
      "\n",
      "Всего ошибочно: 1\n"
     ]
    }
   ],
   "execution_count": 4
  }
 ],
 "metadata": {
  "kernelspec": {
   "display_name": "Python 3",
   "language": "python",
   "name": "python3"
  },
  "language_info": {
   "codemirror_mode": {
    "name": "ipython",
    "version": 2
   },
   "file_extension": ".py",
   "mimetype": "text/x-python",
   "name": "python",
   "nbconvert_exporter": "python",
   "pygments_lexer": "ipython2",
   "version": "2.7.6"
  }
 },
 "nbformat": 4,
 "nbformat_minor": 5
}
