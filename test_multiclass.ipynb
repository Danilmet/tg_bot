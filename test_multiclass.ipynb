{
 "cells": [
  {
   "metadata": {
    "ExecuteTime": {
     "end_time": "2024-04-24T15:06:41.643841Z",
     "start_time": "2024-04-24T15:06:38.544536Z"
    }
   },
   "cell_type": "code",
   "source": [
    "from transformers import AutoModelForSequenceClassification, AutoTokenizer, pipeline\n",
    "MODEL_NAME = \"./models/self_multi\"\n",
    "# MODEL_NAME = \"./models/sbert_plus_multi\"\n",
    "MODEL_TASK = \"sentiment-analysis\"\n",
    "\n",
    "LABELS = ['greeting', 'how are you', 'unknown']\n",
    "LABEL_MAP = {i: LABELS[i] for i in range(0, len(LABELS))}\n",
    "ID_MAP = {value: key for key, value in LABEL_MAP.items()}\n",
    "\n",
    "model = AutoModelForSequenceClassification.from_pretrained(MODEL_NAME, id2label=LABEL_MAP, label2id=ID_MAP)\n",
    "tokenizer = AutoTokenizer.from_pretrained(MODEL_NAME, return_tensors=\"pt\", padding=True, truncation=True, max_length=128)\n",
    "clf = pipeline(task=MODEL_TASK, model=model, tokenizer=tokenizer, top_k=3)"
   ],
   "id": "b22aa8f3aec289de",
   "outputs": [],
   "execution_count": 1
  },
  {
   "metadata": {
    "ExecuteTime": {
     "end_time": "2024-04-24T15:06:41.887226Z",
     "start_time": "2024-04-24T15:06:41.643841Z"
    }
   },
   "cell_type": "code",
   "source": [
    "import pandas as pd\n",
    "import numpy as np\n",
    "\n",
    "DATASET_NAME = \"./datasets/ru-plus.csv\"\n",
    "\n",
    "df = pd.read_csv(DATASET_NAME, delimiter=\"|\")\n",
    "df.columns = ['text', 'label']\n",
    "df['label'] = df['label'].astype(int)\n",
    "df_label_0 = df[df[\"label\"] == 0]\n",
    "df_label_1 = df[df[\"label\"] == 1]\n",
    "multi_class = []\n",
    "for i in range(50):\n",
    "    row_0 = df_label_0.sample(n=1, random_state=np.random.RandomState())\n",
    "    row_1 = df_label_1.sample(n=1, random_state=np.random.RandomState())\n",
    "    text = f\"{row_0['text'].values[0]}, {row_1['text'].values[0].lower()}\"\n",
    "    multi_class.append({'text': text, 'label': 3})\n",
    "\n",
    "df = pd.concat([df, pd.DataFrame(multi_class)], ignore_index=True)\n",
    "df['label'] = df['label'].map({0: [1, 0, 0], 1: [0, 1, 0], 2: [0, 0, 1], 3: [1, 1, 0]})\n",
    "\n",
    "texts = df['text'].tolist()\n",
    "labels = df['label'].tolist()"
   ],
   "id": "d42c64ea602dd61",
   "outputs": [],
   "execution_count": 2
  },
  {
   "metadata": {
    "ExecuteTime": {
     "end_time": "2024-04-24T15:06:54.253629Z",
     "start_time": "2024-04-24T15:06:41.888233Z"
    }
   },
   "cell_type": "code",
   "source": "results = clf(texts)",
   "id": "b7814b4e7affd52a",
   "outputs": [],
   "execution_count": 3
  },
  {
   "metadata": {
    "ExecuteTime": {
     "end_time": "2024-04-24T15:06:54.257325Z",
     "start_time": "2024-04-24T15:06:54.253629Z"
    }
   },
   "cell_type": "code",
   "source": [
    "THRESHOLD = 0.9\n",
    "\n",
    "counter = 0\n",
    "mapped_results = []\n",
    "\n",
    "for text, label, result in zip(texts, labels, results):\n",
    "    res = {el['label']: 1 if el['score'] > THRESHOLD else 0 for el in result}\n",
    "    mapped = [res['greeting'], res['how are you'], res['unknown']]\n",
    "    mapped_results.append(mapped)\n",
    "    if mapped != label:\n",
    "        counter += 1\n",
    "        print(f\"Текст: {text}\")\n",
    "        print(f\"Предсказано: {mapped}, Значение: {label}, Результат: {result}\")\n",
    "        print()\n",
    "        \n",
    "print(f\"Всего ошибочно: {counter}\")"
   ],
   "id": "b17aed57e6672fcf",
   "outputs": [
    {
     "name": "stdout",
     "output_type": "stream",
     "text": [
      "Текст: Что расскажешь?\n",
      "Предсказано: [0, 0, 0], Значение: [0, 1, 0], Результат: [{'label': 'how are you', 'score': 0.8623228073120117}, {'label': 'unknown', 'score': 0.2193164825439453}, {'label': 'greeting', 'score': 0.005776830483227968}]\n",
      "\n",
      "Текст: Нормально?\n",
      "Предсказано: [0, 0, 0], Значение: [0, 0, 1], Результат: [{'label': 'how are you', 'score': 0.7760507464408875}, {'label': 'unknown', 'score': 0.2226688712835312}, {'label': 'greeting', 'score': 0.007004767190665007}]\n",
      "\n",
      "Текст: Как насчжёт кино вечером?\n",
      "Предсказано: [0, 0, 0], Значение: [0, 0, 1], Результат: [{'label': 'unknown', 'score': 0.8348129391670227}, {'label': 'how are you', 'score': 0.40166231989860535}, {'label': 'greeting', 'score': 0.0037557545583695173}]\n",
      "\n",
      "Всего ошибочно: 3\n"
     ]
    }
   ],
   "execution_count": 4
  },
  {
   "metadata": {
    "ExecuteTime": {
     "end_time": "2024-04-24T15:07:01.289024Z",
     "start_time": "2024-04-24T15:06:54.257325Z"
    }
   },
   "cell_type": "code",
   "source": [
    "import evaluate\n",
    "metric = evaluate.combine([\"accuracy\", \"f1\", \"precision\", \"recall\"])\n",
    "', '.join(f\"{key}: {value:.4f}\" for key, value in metric.compute(predictions=np.array(mapped_results).reshape(-1), references=np.array(labels).reshape(-1)).items())"
   ],
   "id": "4a8ff8dc7cd03aed",
   "outputs": [
    {
     "data": {
      "text/plain": [
       "'accuracy: 0.9964, f1: 0.9954, precision: 1.0000, recall: 0.9909'"
      ]
     },
     "execution_count": 5,
     "metadata": {},
     "output_type": "execute_result"
    }
   ],
   "execution_count": 5
  }
 ],
 "metadata": {
  "kernelspec": {
   "display_name": "Python 3",
   "language": "python",
   "name": "python3"
  },
  "language_info": {
   "codemirror_mode": {
    "name": "ipython",
    "version": 2
   },
   "file_extension": ".py",
   "mimetype": "text/x-python",
   "name": "python",
   "nbconvert_exporter": "python",
   "pygments_lexer": "ipython2",
   "version": "2.7.6"
  }
 },
 "nbformat": 4,
 "nbformat_minor": 5
}
