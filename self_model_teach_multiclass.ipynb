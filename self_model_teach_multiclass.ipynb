{
 "cells": [
  {
   "metadata": {
    "ExecuteTime": {
     "end_time": "2024-04-27T07:54:28.797161Z",
     "start_time": "2024-04-27T07:54:26.045923Z"
    }
   },
   "cell_type": "code",
   "source": [
    "import evaluate\n",
    "import pandas as pd\n",
    "import numpy as np\n",
    "\n",
    "from sklearn.model_selection import train_test_split\n",
    "from torch.optim import AdamW\n",
    "from torch.utils.data import DataLoader, Dataset\n",
    "from tqdm import tqdm\n",
    "from transformers import BertModel, BertConfig, BertTokenizer\n",
    "from torch.nn import BCELoss\n",
    "import torch\n",
    "import torch.nn as nn\n",
    "import os\n",
    "import json"
   ],
   "id": "aef7346c5a24196",
   "outputs": [],
   "execution_count": 1
  },
  {
   "metadata": {
    "ExecuteTime": {
     "end_time": "2024-04-27T07:54:28.800555Z",
     "start_time": "2024-04-27T07:54:28.797161Z"
    }
   },
   "cell_type": "code",
   "source": [
    "DATASET_NAME = \"./datasets/ru-plus.csv\"\n",
    "TEST_SIZE = 0.3\n",
    "MODEL_NAME = \"ai-forever/sbert_large_nlu_ru\"\n",
    "SAVE_DIRECTORY = \"./models/self_model_multi\"\n",
    "LABELS = 2"
   ],
   "id": "46e233be5786bbfe",
   "outputs": [],
   "execution_count": 2
  },
  {
   "cell_type": "code",
   "id": "initial_id",
   "metadata": {
    "collapsed": true,
    "ExecuteTime": {
     "end_time": "2024-04-27T07:54:28.829005Z",
     "start_time": "2024-04-27T07:54:28.800555Z"
    }
   },
   "source": [
    "df = pd.read_csv(DATASET_NAME, delimiter=\"|\")\n",
    "df.columns = [\"text\", \"label\"]\n",
    "df_label_0 = df[df[\"label\"] == 0]\n",
    "df_label_1 = df[df[\"label\"] == 1]\n",
    "multi_class = []\n",
    "for i in range(50):\n",
    "    row_0 = df_label_0.sample(n=1, random_state=np.random.RandomState())\n",
    "    row_1 = df_label_1.sample(n=1, random_state=np.random.RandomState())\n",
    "    text = f\"{row_0['text'].values[0]}, {row_1['text'].values[0].lower()}\"\n",
    "    multi_class.append({'text': text, 'label': 3})\n",
    "\n",
    "df = pd.concat([df, pd.DataFrame(multi_class)], ignore_index=True)\n",
    "df['label'] = df['label'].map({0: [1, 0], 1: [0, 1], 2: [0, 0], 3: [1, 1]})"
   ],
   "outputs": [],
   "execution_count": 3
  },
  {
   "metadata": {
    "ExecuteTime": {
     "end_time": "2024-04-27T07:54:28.832611Z",
     "start_time": "2024-04-27T07:54:28.830009Z"
    }
   },
   "cell_type": "code",
   "source": [
    "train, test_valid = train_test_split(df, test_size=TEST_SIZE, shuffle=True)\n",
    "test, valid = train_test_split(test_valid, test_size=0.5)"
   ],
   "id": "bae641ed9b7afb3a",
   "outputs": [],
   "execution_count": 4
  },
  {
   "metadata": {
    "ExecuteTime": {
     "end_time": "2024-04-27T07:54:28.837702Z",
     "start_time": "2024-04-27T07:54:28.832611Z"
    }
   },
   "cell_type": "code",
   "source": [
    "THRESHOLD = 0.5\n",
    "LEARNING_RATE = 1e-5\n",
    "BATCH_SIZE = 16\n",
    "NUM_EPOCHS = 32"
   ],
   "id": "b2d5246c57d2726c",
   "outputs": [],
   "execution_count": 5
  },
  {
   "metadata": {
    "ExecuteTime": {
     "end_time": "2024-04-27T07:54:29.259920Z",
     "start_time": "2024-04-27T07:54:28.838708Z"
    }
   },
   "cell_type": "code",
   "source": "bert_config = BertConfig.from_pretrained(MODEL_NAME, num_labels=LABELS)",
   "id": "7ac472791af389ed",
   "outputs": [],
   "execution_count": 6
  },
  {
   "metadata": {
    "ExecuteTime": {
     "end_time": "2024-04-27T07:54:29.264430Z",
     "start_time": "2024-04-27T07:54:29.259920Z"
    }
   },
   "cell_type": "code",
   "source": [
    "MODEL_FILE = \"model.bin\"\n",
    "CONFIG_FILE = \"config.json\"\n",
    "\n",
    "class BertClassifier(nn.Module):\n",
    "    def __init__(self, config):\n",
    "        super(BertClassifier, self).__init__()\n",
    "        self.config = config\n",
    "        self.bert = BertModel.from_pretrained(MODEL_NAME, config=config)\n",
    "        self.classifier = nn.Linear(config.hidden_size, config.num_labels)\n",
    "        self.dropout = nn.Dropout(0.1)\n",
    "        self.sigmoid = nn.Sigmoid()\n",
    "\n",
    "    def forward(self, input_ids, attention_mask=None):\n",
    "        outputs = self.bert(input_ids=input_ids, attention_mask=attention_mask)\n",
    "        pooled_output = outputs.pooler_output\n",
    "        pooled_output = self.dropout(pooled_output)\n",
    "        logits = self.classifier(pooled_output)\n",
    "        probabilities = self.sigmoid(logits)\n",
    "        return probabilities\n",
    "    def save_pretrained(self, save_directory):\n",
    "        if not os.path.exists(save_directory):\n",
    "            os.makedirs(save_directory)\n",
    "\n",
    "        config_path = os.path.join(save_directory, CONFIG_FILE)\n",
    "        with open(config_path, 'w') as f:\n",
    "            json.dump(self.config.__dict__, f)\n",
    "\n",
    "        model_path = os.path.join(save_directory, MODEL_FILE)\n",
    "        torch.save(self.state_dict(), model_path)\n",
    "    @classmethod\n",
    "    def from_pretrained(cls, pretrained_model_path, *model_args, **kwargs):\n",
    "        config = BertConfig.from_pretrained(pretrained_model_path)\n",
    "        model = cls(config, *model_args, **kwargs)\n",
    "        model.load_state_dict(torch.load(os.path.join(pretrained_model_path, MODEL_FILE)))\n",
    "        model.eval()\n",
    "        return model"
   ],
   "id": "ec42af0e2e0ad933",
   "outputs": [],
   "execution_count": 7
  },
  {
   "metadata": {
    "ExecuteTime": {
     "end_time": "2024-04-27T07:54:30.501699Z",
     "start_time": "2024-04-27T07:54:29.264430Z"
    }
   },
   "cell_type": "code",
   "source": [
    "model = BertClassifier(bert_config)\n",
    "tokenizer = BertTokenizer.from_pretrained(MODEL_NAME)"
   ],
   "id": "ae15f1a5ebdf6639",
   "outputs": [],
   "execution_count": 8
  },
  {
   "metadata": {
    "ExecuteTime": {
     "end_time": "2024-04-27T07:54:30.796361Z",
     "start_time": "2024-04-27T07:54:30.501699Z"
    }
   },
   "cell_type": "code",
   "source": [
    "device = torch.device(\"cuda\" if torch.cuda.is_available() else \"cpu\")\n",
    "model.to(device)\n",
    "print()"
   ],
   "id": "4af492e807c06849",
   "outputs": [
    {
     "name": "stdout",
     "output_type": "stream",
     "text": [
      "\n"
     ]
    }
   ],
   "execution_count": 9
  },
  {
   "metadata": {
    "ExecuteTime": {
     "end_time": "2024-04-27T07:54:30.799891Z",
     "start_time": "2024-04-27T07:54:30.796361Z"
    }
   },
   "cell_type": "code",
   "source": [
    "optimizer = AdamW(model.parameters(), lr=LEARNING_RATE)\n",
    "criterion = BCELoss()"
   ],
   "id": "60688e1b02a58b30",
   "outputs": [],
   "execution_count": 10
  },
  {
   "metadata": {
    "ExecuteTime": {
     "end_time": "2024-04-27T07:54:30.806607Z",
     "start_time": "2024-04-27T07:54:30.800397Z"
    }
   },
   "cell_type": "code",
   "source": [
    "class TextDataset(Dataset):\n",
    "    def __init__(self, texts, labels):\n",
    "        self.encodings = tokenizer(texts, truncation=True, padding='max_length', max_length=128)\n",
    "        self.texts = texts\n",
    "        self.labels = labels\n",
    "    \n",
    "    def __len__(self):\n",
    "        return len(self.labels)\n",
    "    \n",
    "    def __getitem__(self, idx):\n",
    "        item = {key: torch.tensor(val[idx]) for key, val in self.encodings.items()}\n",
    "        item['labels'] = torch.tensor(self.labels[idx])\n",
    "        item['texts'] = self.texts[idx]\n",
    "        return item"
   ],
   "id": "949cb53ee1d50be7",
   "outputs": [],
   "execution_count": 11
  },
  {
   "metadata": {
    "ExecuteTime": {
     "end_time": "2024-04-27T07:54:30.827125Z",
     "start_time": "2024-04-27T07:54:30.806607Z"
    }
   },
   "cell_type": "code",
   "source": [
    "train_texts = train['text'].tolist()\n",
    "train_labels = train['label'].tolist()\n",
    "dataset = TextDataset(train_texts, train_labels)\n",
    "dataloader = DataLoader(dataset, batch_size=BATCH_SIZE)\n",
    "\n",
    "valid_texts = valid['text'].tolist()\n",
    "valid_labels = valid['label'].tolist()\n",
    "valid_dataset = TextDataset(valid_texts, valid_labels)\n",
    "validation_dataloader = DataLoader(valid_dataset, batch_size=BATCH_SIZE)"
   ],
   "id": "cd8941b373617988",
   "outputs": [],
   "execution_count": 12
  },
  {
   "metadata": {
    "ExecuteTime": {
     "end_time": "2024-04-27T07:54:36.550495Z",
     "start_time": "2024-04-27T07:54:30.827125Z"
    }
   },
   "cell_type": "code",
   "source": [
    "metric = evaluate.combine([\"accuracy\", \"f1\", \"precision\", \"recall\"])\n",
    "\n",
    "def compute_metrics(predictions, references):\n",
    "    return metric.compute(predictions=np.array(predictions).astype(int).reshape(-1), references=np.array(references).astype(int).reshape(-1))"
   ],
   "id": "7167b0dcd92c5852",
   "outputs": [],
   "execution_count": 13
  },
  {
   "metadata": {
    "ExecuteTime": {
     "end_time": "2024-04-27T07:54:36.555002Z",
     "start_time": "2024-04-27T07:54:36.550495Z"
    }
   },
   "cell_type": "code",
   "source": [
    "def validate(model, dataloader, device):\n",
    "    model.eval()\n",
    "    total_loss = 0\n",
    "    all_preds = []\n",
    "    all_labels = []\n",
    "    with torch.no_grad():\n",
    "        for batch in dataloader:\n",
    "            input_ids = batch['input_ids'].to(device)\n",
    "            attention_mask = batch['attention_mask'].to(device)\n",
    "            labels = batch['labels'].float().to(device)\n",
    "            outputs = model(input_ids, attention_mask=attention_mask)\n",
    "            \n",
    "            loss = criterion(outputs, labels)\n",
    "            total_loss += loss.item()\n",
    "            \n",
    "            preds = outputs.cpu().numpy() > THRESHOLD\n",
    "            all_preds.extend(preds)\n",
    "            all_labels.extend(labels.cpu().numpy())\n",
    "    return total_loss / len(dataloader), compute_metrics(all_preds, all_labels)"
   ],
   "id": "b9f104f89282500a",
   "outputs": [],
   "execution_count": 14
  },
  {
   "metadata": {
    "ExecuteTime": {
     "end_time": "2024-04-27T07:56:43.469280Z",
     "start_time": "2024-04-27T07:54:36.555002Z"
    }
   },
   "cell_type": "code",
   "source": [
    "prev_valid_loss = float('inf')\n",
    "for epoch in range(NUM_EPOCHS):\n",
    "    print(f\"Epoch {epoch + 1}/{NUM_EPOCHS}\")\n",
    "    model.train()\n",
    "    for batch in tqdm(dataloader, desc=\"Training\"):\n",
    "        optimizer.zero_grad()\n",
    "        input_ids = batch['input_ids'].to(device)\n",
    "        attention_mask = batch['attention_mask'].to(device)\n",
    "        labels = batch['labels'].float().to(device)\n",
    "        outputs = model(input_ids, attention_mask=attention_mask)\n",
    "        loss = criterion(outputs, labels)\n",
    "        loss.backward()\n",
    "        optimizer.step()\n",
    "         \n",
    "    validation_loss, scores = validate(model, validation_dataloader, device)\n",
    "    tqdm.write(f\"Training Loss: {loss.item():.4f}, Validation Loss: {validation_loss:.4f}, {', '.join(f\"{key}: {value:.4f}\" for key, value in scores.items())}\")\n",
    "    print()\n",
    "    if prev_valid_loss < validation_loss:\n",
    "        break\n",
    "    else:\n",
    "        prev_valid_loss = validation_loss\n",
    "        model.save_pretrained(SAVE_DIRECTORY)"
   ],
   "id": "e2d5e16214c8d918",
   "outputs": [
    {
     "name": "stdout",
     "output_type": "stream",
     "text": [
      "Epoch 1/32\n"
     ]
    },
    {
     "name": "stderr",
     "output_type": "stream",
     "text": [
      "Training: 100%|██████████| 13/13 [00:05<00:00,  2.45it/s]\n"
     ]
    },
    {
     "name": "stdout",
     "output_type": "stream",
     "text": [
      "Training Loss: 0.7172, Validation Loss: 0.5315, accuracy: 0.8452, f1: 0.8060, precision: 0.8438, recall: 0.7714\n",
      "\n",
      "Epoch 2/32\n"
     ]
    },
    {
     "name": "stderr",
     "output_type": "stream",
     "text": [
      "Training: 100%|██████████| 13/13 [00:05<00:00,  2.52it/s]\n"
     ]
    },
    {
     "name": "stdout",
     "output_type": "stream",
     "text": [
      "Training Loss: 0.4680, Validation Loss: 0.4239, accuracy: 0.8810, f1: 0.8649, precision: 0.8205, recall: 0.9143\n",
      "\n",
      "Epoch 3/32\n"
     ]
    },
    {
     "name": "stderr",
     "output_type": "stream",
     "text": [
      "Training: 100%|██████████| 13/13 [00:05<00:00,  2.50it/s]\n"
     ]
    },
    {
     "name": "stdout",
     "output_type": "stream",
     "text": [
      "Training Loss: 0.3036, Validation Loss: 0.3183, accuracy: 0.9405, f1: 0.9315, precision: 0.8947, recall: 0.9714\n",
      "\n",
      "Epoch 4/32\n"
     ]
    },
    {
     "name": "stderr",
     "output_type": "stream",
     "text": [
      "Training: 100%|██████████| 13/13 [00:05<00:00,  2.46it/s]\n"
     ]
    },
    {
     "name": "stdout",
     "output_type": "stream",
     "text": [
      "Training Loss: 0.1859, Validation Loss: 0.2186, accuracy: 0.9881, f1: 0.9859, precision: 0.9722, recall: 1.0000\n",
      "\n",
      "Epoch 5/32\n"
     ]
    },
    {
     "name": "stderr",
     "output_type": "stream",
     "text": [
      "Training: 100%|██████████| 13/13 [00:05<00:00,  2.51it/s]\n"
     ]
    },
    {
     "name": "stdout",
     "output_type": "stream",
     "text": [
      "Training Loss: 0.1155, Validation Loss: 0.1420, accuracy: 0.9881, f1: 0.9859, precision: 0.9722, recall: 1.0000\n",
      "\n",
      "Epoch 6/32\n"
     ]
    },
    {
     "name": "stderr",
     "output_type": "stream",
     "text": [
      "Training: 100%|██████████| 13/13 [00:05<00:00,  2.49it/s]\n"
     ]
    },
    {
     "name": "stdout",
     "output_type": "stream",
     "text": [
      "Training Loss: 0.0822, Validation Loss: 0.1003, accuracy: 0.9881, f1: 0.9859, precision: 0.9722, recall: 1.0000\n",
      "\n",
      "Epoch 7/32\n"
     ]
    },
    {
     "name": "stderr",
     "output_type": "stream",
     "text": [
      "Training: 100%|██████████| 13/13 [00:05<00:00,  2.50it/s]\n"
     ]
    },
    {
     "name": "stdout",
     "output_type": "stream",
     "text": [
      "Training Loss: 0.0563, Validation Loss: 0.0718, accuracy: 0.9881, f1: 0.9859, precision: 0.9722, recall: 1.0000\n",
      "\n",
      "Epoch 8/32\n"
     ]
    },
    {
     "name": "stderr",
     "output_type": "stream",
     "text": [
      "Training: 100%|██████████| 13/13 [00:05<00:00,  2.50it/s]\n"
     ]
    },
    {
     "name": "stdout",
     "output_type": "stream",
     "text": [
      "Training Loss: 0.0455, Validation Loss: 0.0589, accuracy: 0.9881, f1: 0.9859, precision: 0.9722, recall: 1.0000\n",
      "\n",
      "Epoch 9/32\n"
     ]
    },
    {
     "name": "stderr",
     "output_type": "stream",
     "text": [
      "Training: 100%|██████████| 13/13 [00:05<00:00,  2.48it/s]\n"
     ]
    },
    {
     "name": "stdout",
     "output_type": "stream",
     "text": [
      "Training Loss: 0.0404, Validation Loss: 0.0497, accuracy: 0.9881, f1: 0.9859, precision: 0.9722, recall: 1.0000\n",
      "\n",
      "Epoch 10/32\n"
     ]
    },
    {
     "name": "stderr",
     "output_type": "stream",
     "text": [
      "Training: 100%|██████████| 13/13 [00:05<00:00,  2.47it/s]\n"
     ]
    },
    {
     "name": "stdout",
     "output_type": "stream",
     "text": [
      "Training Loss: 0.0333, Validation Loss: 0.0444, accuracy: 0.9881, f1: 0.9859, precision: 0.9722, recall: 1.0000\n",
      "\n",
      "Epoch 11/32\n"
     ]
    },
    {
     "name": "stderr",
     "output_type": "stream",
     "text": [
      "Training: 100%|██████████| 13/13 [00:05<00:00,  2.51it/s]\n"
     ]
    },
    {
     "name": "stdout",
     "output_type": "stream",
     "text": [
      "Training Loss: 0.0274, Validation Loss: 0.0432, accuracy: 0.9881, f1: 0.9859, precision: 0.9722, recall: 1.0000\n",
      "\n",
      "Epoch 12/32\n"
     ]
    },
    {
     "name": "stderr",
     "output_type": "stream",
     "text": [
      "Training: 100%|██████████| 13/13 [00:05<00:00,  2.46it/s]\n"
     ]
    },
    {
     "name": "stdout",
     "output_type": "stream",
     "text": [
      "Training Loss: 0.0233, Validation Loss: 0.0395, accuracy: 0.9881, f1: 0.9859, precision: 0.9722, recall: 1.0000\n",
      "\n",
      "Epoch 13/32\n"
     ]
    },
    {
     "name": "stderr",
     "output_type": "stream",
     "text": [
      "Training: 100%|██████████| 13/13 [00:05<00:00,  2.49it/s]\n"
     ]
    },
    {
     "name": "stdout",
     "output_type": "stream",
     "text": [
      "Training Loss: 0.0221, Validation Loss: 0.0382, accuracy: 0.9881, f1: 0.9859, precision: 0.9722, recall: 1.0000\n",
      "\n",
      "Epoch 14/32\n"
     ]
    },
    {
     "name": "stderr",
     "output_type": "stream",
     "text": [
      "Training: 100%|██████████| 13/13 [00:05<00:00,  2.43it/s]\n"
     ]
    },
    {
     "name": "stdout",
     "output_type": "stream",
     "text": [
      "Training Loss: 0.0180, Validation Loss: 0.0378, accuracy: 0.9881, f1: 0.9859, precision: 0.9722, recall: 1.0000\n",
      "\n",
      "Epoch 15/32\n"
     ]
    },
    {
     "name": "stderr",
     "output_type": "stream",
     "text": [
      "Training: 100%|██████████| 13/13 [00:05<00:00,  2.51it/s]\n"
     ]
    },
    {
     "name": "stdout",
     "output_type": "stream",
     "text": [
      "Training Loss: 0.0181, Validation Loss: 0.0369, accuracy: 0.9881, f1: 0.9859, precision: 0.9722, recall: 1.0000\n",
      "\n",
      "Epoch 16/32\n"
     ]
    },
    {
     "name": "stderr",
     "output_type": "stream",
     "text": [
      "Training: 100%|██████████| 13/13 [00:05<00:00,  2.51it/s]\n"
     ]
    },
    {
     "name": "stdout",
     "output_type": "stream",
     "text": [
      "Training Loss: 0.0142, Validation Loss: 0.0364, accuracy: 0.9881, f1: 0.9859, precision: 0.9722, recall: 1.0000\n",
      "\n",
      "Epoch 17/32\n"
     ]
    },
    {
     "name": "stderr",
     "output_type": "stream",
     "text": [
      "Training: 100%|██████████| 13/13 [00:05<00:00,  2.51it/s]\n"
     ]
    },
    {
     "name": "stdout",
     "output_type": "stream",
     "text": [
      "Training Loss: 0.0147, Validation Loss: 0.0347, accuracy: 0.9881, f1: 0.9859, precision: 0.9722, recall: 1.0000\n",
      "\n",
      "Epoch 18/32\n"
     ]
    },
    {
     "name": "stderr",
     "output_type": "stream",
     "text": [
      "Training: 100%|██████████| 13/13 [00:05<00:00,  2.45it/s]\n"
     ]
    },
    {
     "name": "stdout",
     "output_type": "stream",
     "text": [
      "Training Loss: 0.0144, Validation Loss: 0.0344, accuracy: 0.9881, f1: 0.9859, precision: 0.9722, recall: 1.0000\n",
      "\n",
      "Epoch 19/32\n"
     ]
    },
    {
     "name": "stderr",
     "output_type": "stream",
     "text": [
      "Training: 100%|██████████| 13/13 [00:05<00:00,  2.51it/s]\n"
     ]
    },
    {
     "name": "stdout",
     "output_type": "stream",
     "text": [
      "Training Loss: 0.0114, Validation Loss: 0.0360, accuracy: 0.9881, f1: 0.9859, precision: 0.9722, recall: 1.0000\n",
      "\n"
     ]
    }
   ],
   "execution_count": 15
  },
  {
   "metadata": {
    "ExecuteTime": {
     "end_time": "2024-04-27T07:56:43.525035Z",
     "start_time": "2024-04-27T07:56:43.469280Z"
    }
   },
   "cell_type": "code",
   "source": "tokenizer.save_pretrained(SAVE_DIRECTORY)",
   "id": "2d979c5c224f5b0f",
   "outputs": [
    {
     "data": {
      "text/plain": [
       "('./models/self_model_multi\\\\tokenizer_config.json',\n",
       " './models/self_model_multi\\\\special_tokens_map.json',\n",
       " './models/self_model_multi\\\\vocab.txt',\n",
       " './models/self_model_multi\\\\added_tokens.json')"
      ]
     },
     "execution_count": 16,
     "metadata": {},
     "output_type": "execute_result"
    }
   ],
   "execution_count": 16
  },
  {
   "metadata": {
    "ExecuteTime": {
     "end_time": "2024-04-27T07:56:43.527729Z",
     "start_time": "2024-04-27T07:56:43.525035Z"
    }
   },
   "cell_type": "code",
   "source": [
    "test_texts = test['text'].tolist()\n",
    "test_labels = test['label'].tolist()"
   ],
   "id": "1562a9e934286a59",
   "outputs": [],
   "execution_count": 17
  },
  {
   "metadata": {
    "ExecuteTime": {
     "end_time": "2024-04-27T07:56:43.532937Z",
     "start_time": "2024-04-27T07:56:43.528732Z"
    }
   },
   "cell_type": "code",
   "source": [
    "def classify_text(model, tokenizer, text, threshold):\n",
    "    model.eval()\n",
    "    with torch.no_grad():\n",
    "        tokenized_value = tokenizer(text,  padding='max_length', truncation=True, max_length=128, return_tensors='pt')\n",
    "        output_value = model(tokenized_value['input_ids'].to(device), attention_mask=tokenized_value['attention_mask'].to(device))\n",
    "        predictions = output_value[0].cpu().numpy()\n",
    "        output_value = predictions > threshold\n",
    "        return output_value.astype(int).tolist(), predictions.tolist()"
   ],
   "id": "53efee03afcc48a9",
   "outputs": [],
   "execution_count": 18
  },
  {
   "metadata": {
    "ExecuteTime": {
     "end_time": "2024-04-27T07:56:44.046240Z",
     "start_time": "2024-04-27T07:56:43.532937Z"
    }
   },
   "cell_type": "code",
   "source": [
    "counter = 0\n",
    "results = []\n",
    "for test_text, test_label in zip(test_texts, test_labels):\n",
    "    inputs = tokenizer(test_text, return_tensors=\"pt\", truncation=True, padding='max_length', max_length=128)\n",
    "    outputs, predictions = classify_text(model, tokenizer, test_text, THRESHOLD)\n",
    "    results.append(outputs)\n",
    "    if outputs != test_label:\n",
    "        counter += 1\n",
    "        print(f\"Текст: {test_text}\")\n",
    "        print(f\"Предсказано: {outputs}, Значение: {test_label}, Результат: {predictions}\")\n",
    "        print()\n",
    "print(f\"Всего ошибочно: {counter}\")\n",
    "\n",
    "print(', '.join(f\"{key}: {value:.4f}\" for key, value in metric.compute(predictions=np.array(results).reshape(-1), references=np.array(test_labels).reshape(-1)).items()))"
   ],
   "id": "ac1cff07716b125a",
   "outputs": [
    {
     "name": "stdout",
     "output_type": "stream",
     "text": [
      "Всего ошибочно: 0\n",
      "accuracy: 1.0000, f1: 1.0000, precision: 1.0000, recall: 1.0000\n"
     ]
    }
   ],
   "execution_count": 19
  }
 ],
 "metadata": {
  "kernelspec": {
   "display_name": "Python 3",
   "language": "python",
   "name": "python3"
  },
  "language_info": {
   "codemirror_mode": {
    "name": "ipython",
    "version": 2
   },
   "file_extension": ".py",
   "mimetype": "text/x-python",
   "name": "python",
   "nbconvert_exporter": "python",
   "pygments_lexer": "ipython2",
   "version": "2.7.6"
  }
 },
 "nbformat": 4,
 "nbformat_minor": 5
}
