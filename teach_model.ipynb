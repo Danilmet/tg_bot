{
 "cells": [
  {
   "cell_type": "code",
   "id": "e7b7f2de",
   "metadata": {
    "ExecuteTime": {
     "end_time": "2024-04-16T12:23:31.832276Z",
     "start_time": "2024-04-16T12:23:31.830295Z"
    }
   },
   "source": [
    "import evaluate\n",
    "import pandas as pd\n",
    "import numpy as np\n",
    "\n",
    "from datasets import Dataset\n",
    "from sklearn.model_selection import train_test_split\n",
    "from transformers import (AutoTokenizer, AutoModelForSequenceClassification, TrainingArguments, Trainer, EarlyStoppingCallback)"
   ],
   "outputs": [],
   "execution_count": 23
  },
  {
   "metadata": {},
   "cell_type": "markdown",
   "source": "#### Переменные",
   "id": "3cd265d2ffd18b7d"
  },
  {
   "cell_type": "code",
   "id": "d4bf227b",
   "metadata": {
    "ExecuteTime": {
     "end_time": "2024-04-16T12:23:31.859765Z",
     "start_time": "2024-04-16T12:23:31.857779Z"
    }
   },
   "source": [
    "DATASET_NAME = \"./datasets/ru-plus.csv\"\n",
    "TEST_SIZE = 0.2\n",
    "MODEL_NAME = \"ai-forever/sbert_large_nlu_ru\"\n",
    "SAVE_DIRECTORY = \"./models/sbert_plus\"\n",
    "OUTPUT_LOG_NAME = \"./output/sbert_plus\""
   ],
   "outputs": [],
   "execution_count": 24
  },
  {
   "metadata": {},
   "cell_type": "markdown",
   "source": "#### Загружаем данные",
   "id": "5902733c6c8fa2dd"
  },
  {
   "cell_type": "code",
   "id": "f6b4ae0c",
   "metadata": {
    "ExecuteTime": {
     "end_time": "2024-04-16T12:23:31.877434Z",
     "start_time": "2024-04-16T12:23:31.859765Z"
    }
   },
   "source": [
    "df = pd.read_csv(DATASET_NAME, delimiter=\"|\")\n",
    "df.columns = [\"text\", \"label\"]\n",
    "df['label'] = df['label'].astype(int)"
   ],
   "outputs": [],
   "execution_count": 25
  },
  {
   "metadata": {},
   "cell_type": "markdown",
   "source": "#### Конвертируем датасет в Dataset",
   "id": "ef323552d02c470d"
  },
  {
   "cell_type": "code",
   "id": "ee367ae8",
   "metadata": {
    "ExecuteTime": {
     "end_time": "2024-04-16T12:23:31.898065Z",
     "start_time": "2024-04-16T12:23:31.877434Z"
    }
   },
   "source": [
    "train, test_valid = train_test_split(df, test_size=TEST_SIZE, shuffle=True)\n",
    "train = Dataset.from_pandas(train)\n",
    "test, valid = train_test_split(test_valid, test_size=0.5)\n",
    "test_ds = Dataset.from_pandas(test)\n",
    "valid = Dataset.from_pandas(valid)"
   ],
   "outputs": [],
   "execution_count": 26
  },
  {
   "metadata": {},
   "cell_type": "markdown",
   "source": "#### Выполняем предобработку текста",
   "id": "9d603addc757b306"
  },
  {
   "cell_type": "code",
   "id": "e0cc497e",
   "metadata": {
    "ExecuteTime": {
     "end_time": "2024-04-16T12:23:32.739232Z",
     "start_time": "2024-04-16T12:23:31.899070Z"
    }
   },
   "source": [
    "def tokenize_function(examples):\n",
    "    return tokenizer(examples[\"text\"], padding=\"max_length\", truncation=True, max_length=64)\n",
    "\n",
    "tokenizer = AutoTokenizer.from_pretrained(MODEL_NAME)\n",
    "tokenized_train = train.map(tokenize_function)\n",
    "tokenized_test = test_ds.map(tokenize_function)\n",
    "tokenized_valid = valid.map(tokenize_function)"
   ],
   "outputs": [
    {
     "data": {
      "text/plain": [
       "Map:   0%|          | 0/182 [00:00<?, ? examples/s]"
      ],
      "application/vnd.jupyter.widget-view+json": {
       "version_major": 2,
       "version_minor": 0,
       "model_id": "1800c43f05404065af0fe69602d64bc6"
      }
     },
     "metadata": {},
     "output_type": "display_data"
    },
    {
     "data": {
      "text/plain": [
       "Map:   0%|          | 0/23 [00:00<?, ? examples/s]"
      ],
      "application/vnd.jupyter.widget-view+json": {
       "version_major": 2,
       "version_minor": 0,
       "model_id": "4860e6ae938f4e2d8215c2a1d9db9366"
      }
     },
     "metadata": {},
     "output_type": "display_data"
    },
    {
     "data": {
      "text/plain": [
       "Map:   0%|          | 0/23 [00:00<?, ? examples/s]"
      ],
      "application/vnd.jupyter.widget-view+json": {
       "version_major": 2,
       "version_minor": 0,
       "model_id": "114f844198ef4408b8c3d2cb895c0113"
      }
     },
     "metadata": {},
     "output_type": "display_data"
    }
   ],
   "execution_count": 27
  },
  {
   "metadata": {},
   "cell_type": "markdown",
   "source": "#### Загружаем предобученную модель",
   "id": "1dc9e3ad96ac320e"
  },
  {
   "cell_type": "code",
   "id": "6a67040c",
   "metadata": {
    "ExecuteTime": {
     "end_time": "2024-04-16T12:23:34.182780Z",
     "start_time": "2024-04-16T12:23:32.739232Z"
    }
   },
   "source": [
    "model = AutoModelForSequenceClassification.from_pretrained(\n",
    "    MODEL_NAME,\n",
    "    num_labels=3,\n",
    ")"
   ],
   "outputs": [
    {
     "name": "stderr",
     "output_type": "stream",
     "text": [
      "Some weights of BertForSequenceClassification were not initialized from the model checkpoint at ai-forever/sbert_large_nlu_ru and are newly initialized: ['classifier.bias', 'classifier.weight']\n",
      "You should probably TRAIN this model on a down-stream task to be able to use it for predictions and inference.\n"
     ]
    }
   ],
   "execution_count": 28
  },
  {
   "metadata": {},
   "cell_type": "markdown",
   "source": "#### Задаем параметры обучения",
   "id": "dbbc4c219f33063f"
  },
  {
   "cell_type": "code",
   "id": "30716c7b",
   "metadata": {
    "ExecuteTime": {
     "end_time": "2024-04-16T12:23:34.244079Z",
     "start_time": "2024-04-16T12:23:34.182780Z"
    }
   },
   "source": [
    "training_args = TrainingArguments(\n",
    "    output_dir=OUTPUT_LOG_NAME,\n",
    "    learning_rate=2e-5,\n",
    "    evaluation_strategy=\"epoch\",\n",
    "    logging_strategy=\"epoch\",\n",
    "    save_strategy='epoch',\n",
    "    per_device_train_batch_size=16,\n",
    "    per_device_eval_batch_size=16,\n",
    "    num_train_epochs=32,\n",
    "    load_best_model_at_end=True,\n",
    "    report_to=\"none\"\n",
    ")"
   ],
   "outputs": [],
   "execution_count": 29
  },
  {
   "metadata": {},
   "cell_type": "markdown",
   "source": "#### Определяем как считать метрику",
   "id": "b04193f7ce99c8e3"
  },
  {
   "cell_type": "code",
   "id": "b023e816",
   "metadata": {
    "ExecuteTime": {
     "end_time": "2024-04-16T12:23:36.079776Z",
     "start_time": "2024-04-16T12:23:34.244079Z"
    }
   },
   "source": "metric = evaluate.load(\"f1\")",
   "outputs": [],
   "execution_count": 30
  },
  {
   "metadata": {},
   "cell_type": "markdown",
   "source": "#### Выполняем обучение",
   "id": "613b55542ce68792"
  },
  {
   "cell_type": "code",
   "id": "19fe3a90",
   "metadata": {
    "ExecuteTime": {
     "end_time": "2024-04-16T12:25:40.407963Z",
     "start_time": "2024-04-16T12:23:36.079776Z"
    }
   },
   "source": [
    "def compute_metrics(eval_pred):\n",
    "    logits, labels = eval_pred\n",
    "    predictions = np.argmax(logits, axis=-1)\n",
    "    return metric.compute(predictions=predictions, references=labels, average='macro')\n",
    "\n",
    "early_stopper = EarlyStoppingCallback(early_stopping_threshold=0.0001)\n",
    "\n",
    "trainer = Trainer(\n",
    "    model=model,\n",
    "    args=training_args,\n",
    "    train_dataset=tokenized_train,\n",
    "    eval_dataset=tokenized_valid,\n",
    "    compute_metrics=compute_metrics,\n",
    "    callbacks=[early_stopper]\n",
    ")\n",
    "trainer.train()"
   ],
   "outputs": [
    {
     "name": "stderr",
     "output_type": "stream",
     "text": [
      "C:\\Users\\Danilmet\\PycharmProjects\\tg_bot\\venv\\Lib\\site-packages\\accelerate\\accelerator.py:436: FutureWarning: Passing the following arguments to `Accelerator` is deprecated and will be removed in version 1.0 of Accelerate: dict_keys(['dispatch_batches', 'split_batches', 'even_batches', 'use_seedable_sampler']). Please pass an `accelerate.DataLoaderConfiguration` instead: \n",
      "dataloader_config = DataLoaderConfiguration(dispatch_batches=None, split_batches=False, even_batches=True, use_seedable_sampler=True)\n",
      "  warnings.warn(\n"
     ]
    },
    {
     "data": {
      "text/plain": [
       "<IPython.core.display.HTML object>"
      ],
      "text/html": [
       "\n",
       "    <div>\n",
       "      \n",
       "      <progress value='156' max='384' style='width:300px; height:20px; vertical-align: middle;'></progress>\n",
       "      [156/384 02:03 < 03:02, 1.25 it/s, Epoch 13/32]\n",
       "    </div>\n",
       "    <table border=\"1\" class=\"dataframe\">\n",
       "  <thead>\n",
       " <tr style=\"text-align: left;\">\n",
       "      <th>Epoch</th>\n",
       "      <th>Training Loss</th>\n",
       "      <th>Validation Loss</th>\n",
       "      <th>F1</th>\n",
       "    </tr>\n",
       "  </thead>\n",
       "  <tbody>\n",
       "    <tr>\n",
       "      <td>1</td>\n",
       "      <td>0.844900</td>\n",
       "      <td>0.446377</td>\n",
       "      <td>0.965899</td>\n",
       "    </tr>\n",
       "    <tr>\n",
       "      <td>2</td>\n",
       "      <td>0.303200</td>\n",
       "      <td>0.186730</td>\n",
       "      <td>0.965899</td>\n",
       "    </tr>\n",
       "    <tr>\n",
       "      <td>3</td>\n",
       "      <td>0.074000</td>\n",
       "      <td>0.022907</td>\n",
       "      <td>1.000000</td>\n",
       "    </tr>\n",
       "    <tr>\n",
       "      <td>4</td>\n",
       "      <td>0.014900</td>\n",
       "      <td>0.011545</td>\n",
       "      <td>1.000000</td>\n",
       "    </tr>\n",
       "    <tr>\n",
       "      <td>5</td>\n",
       "      <td>0.005900</td>\n",
       "      <td>0.005149</td>\n",
       "      <td>1.000000</td>\n",
       "    </tr>\n",
       "    <tr>\n",
       "      <td>6</td>\n",
       "      <td>0.003500</td>\n",
       "      <td>0.003616</td>\n",
       "      <td>1.000000</td>\n",
       "    </tr>\n",
       "    <tr>\n",
       "      <td>7</td>\n",
       "      <td>0.002600</td>\n",
       "      <td>0.003005</td>\n",
       "      <td>1.000000</td>\n",
       "    </tr>\n",
       "    <tr>\n",
       "      <td>8</td>\n",
       "      <td>0.002200</td>\n",
       "      <td>0.002604</td>\n",
       "      <td>1.000000</td>\n",
       "    </tr>\n",
       "    <tr>\n",
       "      <td>9</td>\n",
       "      <td>0.001900</td>\n",
       "      <td>0.002261</td>\n",
       "      <td>1.000000</td>\n",
       "    </tr>\n",
       "    <tr>\n",
       "      <td>10</td>\n",
       "      <td>0.001700</td>\n",
       "      <td>0.002043</td>\n",
       "      <td>1.000000</td>\n",
       "    </tr>\n",
       "    <tr>\n",
       "      <td>11</td>\n",
       "      <td>0.001500</td>\n",
       "      <td>0.001879</td>\n",
       "      <td>1.000000</td>\n",
       "    </tr>\n",
       "    <tr>\n",
       "      <td>12</td>\n",
       "      <td>0.001400</td>\n",
       "      <td>0.001725</td>\n",
       "      <td>1.000000</td>\n",
       "    </tr>\n",
       "    <tr>\n",
       "      <td>13</td>\n",
       "      <td>0.001300</td>\n",
       "      <td>0.001646</td>\n",
       "      <td>1.000000</td>\n",
       "    </tr>\n",
       "  </tbody>\n",
       "</table><p>"
      ]
     },
     "metadata": {},
     "output_type": "display_data"
    },
    {
     "data": {
      "text/plain": [
       "TrainOutput(global_step=156, training_loss=0.0968607859686017, metrics={'train_runtime': 123.6648, 'train_samples_per_second': 47.095, 'train_steps_per_second': 3.105, 'total_flos': 275619631961856.0, 'train_loss': 0.0968607859686017, 'epoch': 13.0})"
      ]
     },
     "execution_count": 31,
     "metadata": {},
     "output_type": "execute_result"
    }
   ],
   "execution_count": 31
  },
  {
   "metadata": {},
   "cell_type": "markdown",
   "source": "#### Сохраняем модель",
   "id": "ed943973a85bb511"
  },
  {
   "cell_type": "code",
   "id": "ffff7ecb",
   "metadata": {
    "ExecuteTime": {
     "end_time": "2024-04-16T12:25:41.489646Z",
     "start_time": "2024-04-16T12:25:40.408967Z"
    }
   },
   "source": [
    "tokenizer.save_pretrained(SAVE_DIRECTORY)\n",
    "model.save_pretrained(SAVE_DIRECTORY)"
   ],
   "outputs": [],
   "execution_count": 32
  },
  {
   "metadata": {},
   "cell_type": "markdown",
   "source": "#### Считаем f1-score для тест dataset",
   "id": "3289e1b6be202cea"
  },
  {
   "metadata": {
    "ExecuteTime": {
     "end_time": "2024-04-16T12:25:42.858595Z",
     "start_time": "2024-04-16T12:25:41.490246Z"
    }
   },
   "cell_type": "code",
   "source": [
    "from sklearn.metrics import f1_score\n",
    "from transformers import pipeline\n",
    "\n",
    "MODEL_TASK = \"sentiment-analysis\"\n",
    "classifier = pipeline(MODEL_TASK, model=model, tokenizer=tokenizer)\n",
    "texts = test['text'].tolist()\n",
    "labels = test['label'].tolist()\n",
    "\n",
    "results = classifier(texts)\n",
    "\n",
    "LABEL_MAP = {\n",
    "    'LABEL_0': 0,\n",
    "    'LABEL_1': 1,\n",
    "    'LABEL_2': 2,\n",
    "}\n",
    "counter = 0\n",
    "\n",
    "for text, label, result in zip(texts, labels, results):\n",
    "    if LABEL_MAP[result['label']] != label:\n",
    "        counter += 1\n",
    "        print(f\"Текст: {text}\")\n",
    "        print(f\"Предсказано: {LABEL_MAP[result['label']]}, Значение: {label} Оценка: {result['score']}\")\n",
    "        print()\n",
    "        \n",
    "print(f\"Всего ошибочно: {counter}\")\n",
    "\n",
    "def map_func(el):\n",
    "    return LABEL_MAP[el['label']]\n",
    "mapped_results = list(map(map_func, results))\n",
    "\n",
    "f1 = f1_score(labels, mapped_results, average='macro')\n",
    "print(f\"F1 Score: {f1}\")"
   ],
   "id": "1c690ebeea99f5c",
   "outputs": [
    {
     "name": "stdout",
     "output_type": "stream",
     "text": [
      "Всего ошибочно: 0\n",
      "F1 Score: 1.0\n"
     ]
    }
   ],
   "execution_count": 33
  }
 ],
 "metadata": {
  "jupytext": {
   "cell_metadata_filter": "-all",
   "main_language": "python",
   "notebook_metadata_filter": "-all"
  },
  "kernelspec": {
   "name": "python3",
   "language": "python",
   "display_name": "Python 3 (ipykernel)"
  }
 },
 "nbformat": 4,
 "nbformat_minor": 5
}
