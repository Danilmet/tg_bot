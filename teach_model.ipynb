{
 "cells": [
  {
   "cell_type": "code",
   "id": "e7b7f2de",
   "metadata": {
    "ExecuteTime": {
     "end_time": "2024-04-15T10:03:00.372420Z",
     "start_time": "2024-04-15T10:03:00.370649Z"
    }
   },
   "source": [
    "import evaluate\n",
    "import pandas as pd\n",
    "import numpy as np\n",
    "\n",
    "from datasets import Dataset\n",
    "from sklearn.model_selection import train_test_split\n",
    "from transformers import (AutoTokenizer, AutoModelForSequenceClassification, TrainingArguments, Trainer, EarlyStoppingCallback)"
   ],
   "outputs": [],
   "execution_count": 35
  },
  {
   "metadata": {},
   "cell_type": "markdown",
   "source": "#### Переменные",
   "id": "3cd265d2ffd18b7d"
  },
  {
   "cell_type": "code",
   "id": "d4bf227b",
   "metadata": {
    "ExecuteTime": {
     "end_time": "2024-04-15T10:03:00.383104Z",
     "start_time": "2024-04-15T10:03:00.380670Z"
    }
   },
   "source": [
    "DATASET_NAME = \"./datasets/ru-plus.csv\"\n",
    "TEST_SIZE = 0.2\n",
    "MODEL_NAME = \"ai-forever/sbert_large_nlu_ru\"\n",
    "SAVE_DIRECTORY = \"./models/sbert_plus\"\n",
    "OUTPUT_LOG_NAME = \"./output/sbert_plus\""
   ],
   "outputs": [],
   "execution_count": 36
  },
  {
   "metadata": {},
   "cell_type": "markdown",
   "source": "#### Загружаем данные",
   "id": "5902733c6c8fa2dd"
  },
  {
   "cell_type": "code",
   "id": "f6b4ae0c",
   "metadata": {
    "ExecuteTime": {
     "end_time": "2024-04-15T10:03:00.389212Z",
     "start_time": "2024-04-15T10:03:00.383104Z"
    }
   },
   "source": [
    "df = pd.read_csv(DATASET_NAME, delimiter=\"|\")\n",
    "df.columns = [\"text\", \"label\"]\n",
    "df['label'] = df['label'].astype(int)"
   ],
   "outputs": [],
   "execution_count": 37
  },
  {
   "metadata": {},
   "cell_type": "markdown",
   "source": "#### Конвертируем датасет в Dataset",
   "id": "ef323552d02c470d"
  },
  {
   "cell_type": "code",
   "id": "ee367ae8",
   "metadata": {
    "ExecuteTime": {
     "end_time": "2024-04-15T10:03:00.398669Z",
     "start_time": "2024-04-15T10:03:00.389212Z"
    }
   },
   "source": [
    "train, test_valid = train_test_split(df, test_size=TEST_SIZE, shuffle=True)\n",
    "train = Dataset.from_pandas(train)\n",
    "test, valid = train_test_split(test_valid, test_size=0.5)\n",
    "test = Dataset.from_pandas(test)\n",
    "valid = Dataset.from_pandas(valid)"
   ],
   "outputs": [],
   "execution_count": 38
  },
  {
   "metadata": {},
   "cell_type": "markdown",
   "source": "#### Выполняем предобработку текста",
   "id": "9d603addc757b306"
  },
  {
   "cell_type": "code",
   "id": "e0cc497e",
   "metadata": {
    "ExecuteTime": {
     "end_time": "2024-04-15T10:03:01.104852Z",
     "start_time": "2024-04-15T10:03:00.399171Z"
    }
   },
   "source": [
    "def tokenize_function(examples):\n",
    "    return tokenizer(examples[\"text\"], padding=\"max_length\", truncation=True, max_length=64)\n",
    "\n",
    "tokenizer = AutoTokenizer.from_pretrained(MODEL_NAME)\n",
    "tokenized_train = train.map(tokenize_function)\n",
    "tokenized_test = test.map(tokenize_function)\n",
    "tokenized_valid = valid.map(tokenize_function)"
   ],
   "outputs": [
    {
     "data": {
      "text/plain": [
       "Map:   0%|          | 0/185 [00:00<?, ? examples/s]"
      ],
      "application/vnd.jupyter.widget-view+json": {
       "version_major": 2,
       "version_minor": 0,
       "model_id": "2d9cd270e04b461e9b80ec90383b61cc"
      }
     },
     "metadata": {},
     "output_type": "display_data"
    },
    {
     "data": {
      "text/plain": [
       "Map:   0%|          | 0/23 [00:00<?, ? examples/s]"
      ],
      "application/vnd.jupyter.widget-view+json": {
       "version_major": 2,
       "version_minor": 0,
       "model_id": "6d2f1c999637496a97033a59ec878337"
      }
     },
     "metadata": {},
     "output_type": "display_data"
    },
    {
     "data": {
      "text/plain": [
       "Map:   0%|          | 0/24 [00:00<?, ? examples/s]"
      ],
      "application/vnd.jupyter.widget-view+json": {
       "version_major": 2,
       "version_minor": 0,
       "model_id": "8a323a64932f44e2a00e225fc524b2ba"
      }
     },
     "metadata": {},
     "output_type": "display_data"
    }
   ],
   "execution_count": 39
  },
  {
   "metadata": {},
   "cell_type": "markdown",
   "source": "#### Загружаем предобученную модель",
   "id": "1dc9e3ad96ac320e"
  },
  {
   "cell_type": "code",
   "id": "6a67040c",
   "metadata": {
    "ExecuteTime": {
     "end_time": "2024-04-15T10:04:55.775505Z",
     "start_time": "2024-04-15T10:04:54.828249Z"
    }
   },
   "source": [
    "model = AutoModelForSequenceClassification.from_pretrained(\n",
    "    MODEL_NAME,\n",
    "    num_labels=3\n",
    ")"
   ],
   "outputs": [
    {
     "name": "stderr",
     "output_type": "stream",
     "text": [
      "Some weights of BertForSequenceClassification were not initialized from the model checkpoint at ai-forever/sbert_large_nlu_ru and are newly initialized: ['classifier.bias', 'classifier.weight']\n",
      "You should probably TRAIN this model on a down-stream task to be able to use it for predictions and inference.\n"
     ]
    }
   ],
   "execution_count": 50
  },
  {
   "metadata": {},
   "cell_type": "markdown",
   "source": "#### Задаем параметры обучения",
   "id": "dbbc4c219f33063f"
  },
  {
   "cell_type": "code",
   "id": "30716c7b",
   "metadata": {
    "ExecuteTime": {
     "end_time": "2024-04-15T10:04:55.822320Z",
     "start_time": "2024-04-15T10:04:55.775505Z"
    }
   },
   "source": [
    "training_args = TrainingArguments(\n",
    "    output_dir=OUTPUT_LOG_NAME,\n",
    "    learning_rate=2e-5,\n",
    "    evaluation_strategy=\"epoch\",\n",
    "    logging_strategy=\"epoch\",\n",
    "    save_strategy='epoch',\n",
    "    per_device_train_batch_size=16,\n",
    "    per_device_eval_batch_size=16,\n",
    "    num_train_epochs=32,\n",
    "    load_best_model_at_end=True,\n",
    "    report_to=\"none\"\n",
    ")"
   ],
   "outputs": [],
   "execution_count": 51
  },
  {
   "metadata": {},
   "cell_type": "markdown",
   "source": "#### Определяем как считать метрику",
   "id": "b04193f7ce99c8e3"
  },
  {
   "cell_type": "code",
   "id": "b023e816",
   "metadata": {
    "ExecuteTime": {
     "end_time": "2024-04-15T10:04:57.179416Z",
     "start_time": "2024-04-15T10:04:55.822320Z"
    }
   },
   "source": "metric = evaluate.load(\"f1\")",
   "outputs": [],
   "execution_count": 52
  },
  {
   "metadata": {},
   "cell_type": "markdown",
   "source": "#### Выполняем обучение",
   "id": "613b55542ce68792"
  },
  {
   "cell_type": "code",
   "id": "19fe3a90",
   "metadata": {
    "ExecuteTime": {
     "end_time": "2024-04-15T10:06:18.950290Z",
     "start_time": "2024-04-15T10:04:57.180415Z"
    }
   },
   "source": [
    "def compute_metrics(eval_pred):\n",
    "    logits, labels = eval_pred\n",
    "    predictions = np.argmax(logits, axis=-1)\n",
    "    return metric.compute(predictions=predictions, references=labels, average='macro')\n",
    "\n",
    "early_stopper = EarlyStoppingCallback(early_stopping_threshold=0.0001)\n",
    "\n",
    "trainer = Trainer(\n",
    "    model=model,\n",
    "    args=training_args,\n",
    "    train_dataset=tokenized_train,\n",
    "    eval_dataset=tokenized_valid,\n",
    "    compute_metrics=compute_metrics,\n",
    "    callbacks=[early_stopper]\n",
    "\n",
    ")\n",
    "trainer.train()"
   ],
   "outputs": [
    {
     "name": "stderr",
     "output_type": "stream",
     "text": [
      "C:\\Users\\Danilmet\\PycharmProjects\\tg_bot\\venv\\Lib\\site-packages\\accelerate\\accelerator.py:436: FutureWarning: Passing the following arguments to `Accelerator` is deprecated and will be removed in version 1.0 of Accelerate: dict_keys(['dispatch_batches', 'split_batches', 'even_batches', 'use_seedable_sampler']). Please pass an `accelerate.DataLoaderConfiguration` instead: \n",
      "dataloader_config = DataLoaderConfiguration(dispatch_batches=None, split_batches=False, even_batches=True, use_seedable_sampler=True)\n",
      "  warnings.warn(\n"
     ]
    },
    {
     "data": {
      "text/plain": [
       "<IPython.core.display.HTML object>"
      ],
      "text/html": [
       "\n",
       "    <div>\n",
       "      \n",
       "      <progress value='156' max='384' style='width:300px; height:20px; vertical-align: middle;'></progress>\n",
       "      [156/384 01:21 < 02:00, 1.90 it/s, Epoch 13/32]\n",
       "    </div>\n",
       "    <table border=\"1\" class=\"dataframe\">\n",
       "  <thead>\n",
       " <tr style=\"text-align: left;\">\n",
       "      <th>Epoch</th>\n",
       "      <th>Training Loss</th>\n",
       "      <th>Validation Loss</th>\n",
       "      <th>F1</th>\n",
       "    </tr>\n",
       "  </thead>\n",
       "  <tbody>\n",
       "    <tr>\n",
       "      <td>1</td>\n",
       "      <td>0.842400</td>\n",
       "      <td>0.580079</td>\n",
       "      <td>0.766234</td>\n",
       "    </tr>\n",
       "    <tr>\n",
       "      <td>2</td>\n",
       "      <td>0.293600</td>\n",
       "      <td>0.170170</td>\n",
       "      <td>1.000000</td>\n",
       "    </tr>\n",
       "    <tr>\n",
       "      <td>3</td>\n",
       "      <td>0.077500</td>\n",
       "      <td>0.032700</td>\n",
       "      <td>1.000000</td>\n",
       "    </tr>\n",
       "    <tr>\n",
       "      <td>4</td>\n",
       "      <td>0.019000</td>\n",
       "      <td>0.009024</td>\n",
       "      <td>1.000000</td>\n",
       "    </tr>\n",
       "    <tr>\n",
       "      <td>5</td>\n",
       "      <td>0.006600</td>\n",
       "      <td>0.004910</td>\n",
       "      <td>1.000000</td>\n",
       "    </tr>\n",
       "    <tr>\n",
       "      <td>6</td>\n",
       "      <td>0.003900</td>\n",
       "      <td>0.003252</td>\n",
       "      <td>1.000000</td>\n",
       "    </tr>\n",
       "    <tr>\n",
       "      <td>7</td>\n",
       "      <td>0.002700</td>\n",
       "      <td>0.002518</td>\n",
       "      <td>1.000000</td>\n",
       "    </tr>\n",
       "    <tr>\n",
       "      <td>8</td>\n",
       "      <td>0.002300</td>\n",
       "      <td>0.002129</td>\n",
       "      <td>1.000000</td>\n",
       "    </tr>\n",
       "    <tr>\n",
       "      <td>9</td>\n",
       "      <td>0.002000</td>\n",
       "      <td>0.001870</td>\n",
       "      <td>1.000000</td>\n",
       "    </tr>\n",
       "    <tr>\n",
       "      <td>10</td>\n",
       "      <td>0.001800</td>\n",
       "      <td>0.001673</td>\n",
       "      <td>1.000000</td>\n",
       "    </tr>\n",
       "    <tr>\n",
       "      <td>11</td>\n",
       "      <td>0.001600</td>\n",
       "      <td>0.001518</td>\n",
       "      <td>1.000000</td>\n",
       "    </tr>\n",
       "    <tr>\n",
       "      <td>12</td>\n",
       "      <td>0.001500</td>\n",
       "      <td>0.001396</td>\n",
       "      <td>1.000000</td>\n",
       "    </tr>\n",
       "    <tr>\n",
       "      <td>13</td>\n",
       "      <td>0.001300</td>\n",
       "      <td>0.001305</td>\n",
       "      <td>1.000000</td>\n",
       "    </tr>\n",
       "  </tbody>\n",
       "</table><p>"
      ]
     },
     "metadata": {},
     "output_type": "display_data"
    },
    {
     "data": {
      "text/plain": [
       "TrainOutput(global_step=156, training_loss=0.09662464510601683, metrics={'train_runtime': 81.2655, 'train_samples_per_second': 72.848, 'train_steps_per_second': 4.725, 'total_flos': 280162812708480.0, 'train_loss': 0.09662464510601683, 'epoch': 13.0})"
      ]
     },
     "execution_count": 53,
     "metadata": {},
     "output_type": "execute_result"
    }
   ],
   "execution_count": 53
  },
  {
   "metadata": {},
   "cell_type": "markdown",
   "source": "#### Сохраняем модель",
   "id": "ed943973a85bb511"
  },
  {
   "cell_type": "code",
   "id": "ffff7ecb",
   "metadata": {
    "ExecuteTime": {
     "end_time": "2024-04-15T10:06:20.125960Z",
     "start_time": "2024-04-15T10:06:18.950290Z"
    }
   },
   "source": [
    "tokenizer.save_pretrained(SAVE_DIRECTORY)\n",
    "model.save_pretrained(SAVE_DIRECTORY)"
   ],
   "outputs": [],
   "execution_count": 54
  }
 ],
 "metadata": {
  "jupytext": {
   "cell_metadata_filter": "-all",
   "main_language": "python",
   "notebook_metadata_filter": "-all"
  },
  "kernelspec": {
   "name": "python3",
   "language": "python",
   "display_name": "Python 3 (ipykernel)"
  }
 },
 "nbformat": 4,
 "nbformat_minor": 5
}
