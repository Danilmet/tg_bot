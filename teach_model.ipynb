{
 "cells": [
  {
   "cell_type": "code",
   "id": "e7b7f2de",
   "metadata": {
    "ExecuteTime": {
     "end_time": "2024-04-10T15:00:41.831433Z",
     "start_time": "2024-04-10T15:00:38.401860Z"
    }
   },
   "source": [
    "import evaluate\n",
    "import pandas as pd\n",
    "import numpy as np\n",
    "from datasets import Dataset\n",
    "from sklearn.model_selection import train_test_split\n",
    "from transformers import (AutoTokenizer, AutoModelForSequenceClassification, TrainingArguments, Trainer)"
   ],
   "outputs": [
    {
     "name": "stderr",
     "output_type": "stream",
     "text": [
      "/Users/d.metelev/PycharmProjects/test_bot/.venv/lib/python3.9/site-packages/urllib3/__init__.py:35: NotOpenSSLWarning: urllib3 v2 only supports OpenSSL 1.1.1+, currently the 'ssl' module is compiled with 'LibreSSL 2.8.3'. See: https://github.com/urllib3/urllib3/issues/3020\n",
      "  warnings.warn(\n"
     ]
    }
   ],
   "execution_count": 1
  },
  {
   "metadata": {},
   "cell_type": "markdown",
   "source": "#### Переменные",
   "id": "3cd265d2ffd18b7d"
  },
  {
   "cell_type": "code",
   "id": "d4bf227b",
   "metadata": {
    "ExecuteTime": {
     "end_time": "2024-04-10T15:00:41.834686Z",
     "start_time": "2024-04-10T15:00:41.832551Z"
    }
   },
   "source": [
    "DATASET_NAME = \"./datasets/ru.csv\"\n",
    "TEST_SIZE = 0.1\n",
    "MODEL_NAME = \"ai-forever/sbert_large_nlu_ru\"\n",
    "SAVE_DIRECTORY = \"./models/sbert_pretrained\"\n",
    "OUTPUT_LOG_NAME = \"./output/sbert_pretrained\""
   ],
   "outputs": [],
   "execution_count": 2
  },
  {
   "metadata": {},
   "cell_type": "markdown",
   "source": "#### Загружаем данные",
   "id": "5902733c6c8fa2dd"
  },
  {
   "cell_type": "code",
   "id": "f6b4ae0c",
   "metadata": {
    "ExecuteTime": {
     "end_time": "2024-04-10T15:00:41.841869Z",
     "start_time": "2024-04-10T15:00:41.835523Z"
    }
   },
   "source": [
    "df = pd.read_csv(DATASET_NAME, delimiter=\"|\")\n",
    "df.columns = [\"text\", \"label\"]\n",
    "df['label'] = df['label'].astype(int)"
   ],
   "outputs": [],
   "execution_count": 3
  },
  {
   "metadata": {},
   "cell_type": "markdown",
   "source": "#### Конвертируем датасет в Dataset",
   "id": "ef323552d02c470d"
  },
  {
   "cell_type": "code",
   "id": "ee367ae8",
   "metadata": {
    "ExecuteTime": {
     "end_time": "2024-04-10T15:00:41.860499Z",
     "start_time": "2024-04-10T15:00:41.842871Z"
    }
   },
   "source": [
    "train, test = train_test_split(df, test_size=TEST_SIZE)\n",
    "train = Dataset.from_pandas(train)\n",
    "test = Dataset.from_pandas(test)"
   ],
   "outputs": [],
   "execution_count": 4
  },
  {
   "metadata": {},
   "cell_type": "markdown",
   "source": "#### Выполняем предобработку текста",
   "id": "9d603addc757b306"
  },
  {
   "cell_type": "code",
   "id": "e0cc497e",
   "metadata": {
    "ExecuteTime": {
     "end_time": "2024-04-10T15:00:43.000344Z",
     "start_time": "2024-04-10T15:00:41.862258Z"
    }
   },
   "source": [
    "def tokenize_function(examples):\n",
    "    return tokenizer(examples[\"text\"], padding=\"max_length\", truncation=True, max_length=4)\n",
    "\n",
    "tokenizer = AutoTokenizer.from_pretrained(MODEL_NAME)\n",
    "tokenized_train = train.map(tokenize_function)\n",
    "tokenized_test = test.map(tokenize_function)"
   ],
   "outputs": [
    {
     "data": {
      "text/plain": [
       "Map:   0%|          | 0/141 [00:00<?, ? examples/s]"
      ],
      "application/vnd.jupyter.widget-view+json": {
       "version_major": 2,
       "version_minor": 0,
       "model_id": "513c10d9819649e1bd9435f5ce0c2177"
      }
     },
     "metadata": {},
     "output_type": "display_data"
    },
    {
     "data": {
      "text/plain": [
       "Map:   0%|          | 0/16 [00:00<?, ? examples/s]"
      ],
      "application/vnd.jupyter.widget-view+json": {
       "version_major": 2,
       "version_minor": 0,
       "model_id": "dac2e713863c4f42ba6987907e3d7929"
      }
     },
     "metadata": {},
     "output_type": "display_data"
    }
   ],
   "execution_count": 5
  },
  {
   "metadata": {},
   "cell_type": "markdown",
   "source": "#### Загружаем предобученную модель",
   "id": "1dc9e3ad96ac320e"
  },
  {
   "cell_type": "code",
   "id": "6a67040c",
   "metadata": {
    "ExecuteTime": {
     "end_time": "2024-04-10T15:00:45.757890Z",
     "start_time": "2024-04-10T15:00:43.001834Z"
    }
   },
   "source": [
    "model = AutoModelForSequenceClassification.from_pretrained(\n",
    "    MODEL_NAME,\n",
    "    num_labels=3\n",
    ")"
   ],
   "outputs": [
    {
     "name": "stderr",
     "output_type": "stream",
     "text": [
      "Some weights of BertForSequenceClassification were not initialized from the model checkpoint at ai-forever/sbert_large_nlu_ru and are newly initialized: ['classifier.bias', 'classifier.weight']\n",
      "You should probably TRAIN this model on a down-stream task to be able to use it for predictions and inference.\n"
     ]
    }
   ],
   "execution_count": 6
  },
  {
   "metadata": {},
   "cell_type": "markdown",
   "source": "#### Задаем параметры обучения",
   "id": "dbbc4c219f33063f"
  },
  {
   "cell_type": "code",
   "id": "30716c7b",
   "metadata": {
    "ExecuteTime": {
     "end_time": "2024-04-10T15:00:45.789027Z",
     "start_time": "2024-04-10T15:00:45.759114Z"
    }
   },
   "source": [
    "training_args = TrainingArguments(\n",
    "    output_dir=OUTPUT_LOG_NAME,\n",
    "    evaluation_strategy=\"epoch\",\n",
    "    per_device_train_batch_size=6,\n",
    "    per_device_eval_batch_size=6,\n",
    "    num_train_epochs=5,\n",
    "    label_names=[\"label\"],\n",
    "    report_to=\"none\"\n",
    ")"
   ],
   "outputs": [],
   "execution_count": 7
  },
  {
   "metadata": {},
   "cell_type": "markdown",
   "source": "#### Определяем как считать метрику",
   "id": "b04193f7ce99c8e3"
  },
  {
   "cell_type": "code",
   "id": "b023e816",
   "metadata": {
    "ExecuteTime": {
     "end_time": "2024-04-10T15:00:48.020536Z",
     "start_time": "2024-04-10T15:00:45.790157Z"
    }
   },
   "source": "metric = evaluate.load(\"f1\")",
   "outputs": [],
   "execution_count": 8
  },
  {
   "metadata": {},
   "cell_type": "markdown",
   "source": "#### Выполняем обучение",
   "id": "613b55542ce68792"
  },
  {
   "cell_type": "code",
   "id": "19fe3a90",
   "metadata": {
    "ExecuteTime": {
     "end_time": "2024-04-10T15:01:45.097443Z",
     "start_time": "2024-04-10T15:00:48.021404Z"
    }
   },
   "source": [
    "def compute_metrics(eval_pred):\n",
    "    logits, labels = eval_pred\n",
    "    predictions = np.argmax(logits, axis=-1)\n",
    "    return metric.compute(predictions=predictions, references=labels)\n",
    "\n",
    "trainer = Trainer(\n",
    "    model=model,\n",
    "    args=training_args,\n",
    "    train_dataset=tokenized_train,\n",
    "    eval_dataset=tokenized_test,\n",
    "    compute_metrics=compute_metrics\n",
    ")\n",
    "trainer.train()"
   ],
   "outputs": [
    {
     "name": "stderr",
     "output_type": "stream",
     "text": [
      "/Users/d.metelev/PycharmProjects/test_bot/.venv/lib/python3.9/site-packages/accelerate/accelerator.py:436: FutureWarning: Passing the following arguments to `Accelerator` is deprecated and will be removed in version 1.0 of Accelerate: dict_keys(['dispatch_batches', 'split_batches', 'even_batches', 'use_seedable_sampler']). Please pass an `accelerate.DataLoaderConfiguration` instead: \n",
      "dataloader_config = DataLoaderConfiguration(dispatch_batches=None, split_batches=False, even_batches=True, use_seedable_sampler=True)\n",
      "  warnings.warn(\n"
     ]
    },
    {
     "data": {
      "text/plain": [
       "<IPython.core.display.HTML object>"
      ],
      "text/html": [
       "\n",
       "    <div>\n",
       "      \n",
       "      <progress value='120' max='120' style='width:300px; height:20px; vertical-align: middle;'></progress>\n",
       "      [120/120 00:53, Epoch 5/5]\n",
       "    </div>\n",
       "    <table border=\"1\" class=\"dataframe\">\n",
       "  <thead>\n",
       " <tr style=\"text-align: left;\">\n",
       "      <th>Epoch</th>\n",
       "      <th>Training Loss</th>\n",
       "      <th>Validation Loss</th>\n",
       "    </tr>\n",
       "  </thead>\n",
       "  <tbody>\n",
       "    <tr>\n",
       "      <td>1</td>\n",
       "      <td>No log</td>\n",
       "      <td>No log</td>\n",
       "    </tr>\n",
       "    <tr>\n",
       "      <td>2</td>\n",
       "      <td>No log</td>\n",
       "      <td>No log</td>\n",
       "    </tr>\n",
       "    <tr>\n",
       "      <td>3</td>\n",
       "      <td>No log</td>\n",
       "      <td>No log</td>\n",
       "    </tr>\n",
       "    <tr>\n",
       "      <td>4</td>\n",
       "      <td>No log</td>\n",
       "      <td>No log</td>\n",
       "    </tr>\n",
       "    <tr>\n",
       "      <td>5</td>\n",
       "      <td>No log</td>\n",
       "      <td>No log</td>\n",
       "    </tr>\n",
       "  </tbody>\n",
       "</table><p>"
      ]
     },
     "metadata": {},
     "output_type": "display_data"
    },
    {
     "data": {
      "text/plain": [
       "TrainOutput(global_step=120, training_loss=0.24256900151570637, metrics={'train_runtime': 55.994, 'train_samples_per_second': 12.591, 'train_steps_per_second': 2.143, 'total_flos': 5132920555080.0, 'train_loss': 0.24256900151570637, 'epoch': 5.0})"
      ]
     },
     "execution_count": 9,
     "metadata": {},
     "output_type": "execute_result"
    }
   ],
   "execution_count": 9
  },
  {
   "metadata": {},
   "cell_type": "markdown",
   "source": "#### Сохраняем модель",
   "id": "ed943973a85bb511"
  },
  {
   "cell_type": "code",
   "id": "ffff7ecb",
   "metadata": {
    "ExecuteTime": {
     "end_time": "2024-04-10T15:01:47.149101Z",
     "start_time": "2024-04-10T15:01:45.107543Z"
    }
   },
   "source": [
    "tokenizer.save_pretrained(SAVE_DIRECTORY)\n",
    "model.save_pretrained(SAVE_DIRECTORY)"
   ],
   "outputs": [],
   "execution_count": 10
  }
 ],
 "metadata": {
  "jupytext": {
   "cell_metadata_filter": "-all",
   "main_language": "python",
   "notebook_metadata_filter": "-all"
  },
  "kernelspec": {
   "name": "python3",
   "language": "python",
   "display_name": "Python 3 (ipykernel)"
  }
 },
 "nbformat": 4,
 "nbformat_minor": 5
}
