{
 "cells": [
  {
   "metadata": {
    "ExecuteTime": {
     "end_time": "2024-04-24T15:00:39.550751Z",
     "start_time": "2024-04-24T15:00:36.759739Z"
    }
   },
   "cell_type": "code",
   "source": [
    "import evaluate\n",
    "import pandas as pd\n",
    "import numpy as np\n",
    "\n",
    "from sklearn.model_selection import train_test_split\n",
    "from transformers import (AutoTokenizer, AutoModelForSequenceClassification)\n",
    "from torch.optim import AdamW\n",
    "from torch.nn import BCEWithLogitsLoss\n",
    "import torch\n",
    "from torch.utils.data import DataLoader, Dataset\n",
    "from tqdm import tqdm"
   ],
   "id": "aef7346c5a24196",
   "outputs": [],
   "execution_count": 1
  },
  {
   "metadata": {
    "ExecuteTime": {
     "end_time": "2024-04-24T15:00:39.554537Z",
     "start_time": "2024-04-24T15:00:39.551757Z"
    }
   },
   "cell_type": "code",
   "source": [
    "DATASET_NAME = \"./datasets/ru-plus.csv\"\n",
    "TEST_SIZE = 0.3\n",
    "MODEL_NAME = \"ai-forever/sbert_large_nlu_ru\"\n",
    "SAVE_DIRECTORY = \"./models/self_multi\""
   ],
   "id": "46e233be5786bbfe",
   "outputs": [],
   "execution_count": 2
  },
  {
   "cell_type": "code",
   "id": "initial_id",
   "metadata": {
    "collapsed": true,
    "ExecuteTime": {
     "end_time": "2024-04-24T15:00:39.594450Z",
     "start_time": "2024-04-24T15:00:39.555541Z"
    }
   },
   "source": [
    "df = pd.read_csv(DATASET_NAME, delimiter=\"|\")\n",
    "df.columns = [\"text\", \"label\"]\n",
    "df_label_0 = df[df[\"label\"] == 0]\n",
    "df_label_1 = df[df[\"label\"] == 1]\n",
    "multi_class = []\n",
    "for i in range(50):\n",
    "    row_0 = df_label_0.sample(n=1, random_state=np.random.RandomState())\n",
    "    row_1 = df_label_1.sample(n=1, random_state=np.random.RandomState())\n",
    "    text = f\"{row_0['text'].values[0]}, {row_1['text'].values[0].lower()}\"\n",
    "    multi_class.append({'text': text, 'label': 3})\n",
    "\n",
    "df = pd.concat([df, pd.DataFrame(multi_class)], ignore_index=True)\n",
    "df['label'] = df['label'].map({0: [1, 0, 0], 1: [0, 1, 0], 2: [0, 0, 1], 3: [1, 1, 0]})"
   ],
   "outputs": [],
   "execution_count": 3
  },
  {
   "metadata": {
    "ExecuteTime": {
     "end_time": "2024-04-24T15:00:39.597935Z",
     "start_time": "2024-04-24T15:00:39.594450Z"
    }
   },
   "cell_type": "code",
   "source": [
    "train, test_valid = train_test_split(df, test_size=TEST_SIZE, shuffle=True)\n",
    "test, valid = train_test_split(test_valid, test_size=0.5)"
   ],
   "id": "bae641ed9b7afb3a",
   "outputs": [],
   "execution_count": 4
  },
  {
   "metadata": {
    "ExecuteTime": {
     "end_time": "2024-04-24T15:01:52.909253Z",
     "start_time": "2024-04-24T15:01:52.906593Z"
    }
   },
   "cell_type": "code",
   "source": [
    "THRESHOLD = 0.9\n",
    "LEARNING_RATE = 1e-5\n",
    "BATCH_SIZE = 16\n",
    "NUM_EPOCHS = 16"
   ],
   "id": "b2d5246c57d2726c",
   "outputs": [],
   "execution_count": 16
  },
  {
   "metadata": {
    "ExecuteTime": {
     "end_time": "2024-04-24T15:01:54.982655Z",
     "start_time": "2024-04-24T15:01:52.913601Z"
    }
   },
   "cell_type": "code",
   "source": [
    "tokenizer = AutoTokenizer.from_pretrained(MODEL_NAME)\n",
    "model = AutoModelForSequenceClassification.from_pretrained(\n",
    "    MODEL_NAME,\n",
    "    num_labels=3,\n",
    "    problem_type=\"multi_label_classification\",\n",
    ")\n",
    "device = torch.device(\"cuda\" if torch.cuda.is_available() else \"cpu\")\n",
    "model.to(device)\n",
    "\n",
    "optimizer = AdamW(model.parameters(), lr=LEARNING_RATE)\n",
    "criterion = BCEWithLogitsLoss()"
   ],
   "id": "4af492e807c06849",
   "outputs": [
    {
     "name": "stderr",
     "output_type": "stream",
     "text": [
      "Some weights of BertForSequenceClassification were not initialized from the model checkpoint at ai-forever/sbert_large_nlu_ru and are newly initialized: ['classifier.bias', 'classifier.weight']\n",
      "You should probably TRAIN this model on a down-stream task to be able to use it for predictions and inference.\n"
     ]
    }
   ],
   "execution_count": 17
  },
  {
   "metadata": {
    "ExecuteTime": {
     "end_time": "2024-04-24T15:01:54.986652Z",
     "start_time": "2024-04-24T15:01:54.982655Z"
    }
   },
   "cell_type": "code",
   "source": [
    "class TextDataset(Dataset):\n",
    "    def __init__(self, texts, labels):\n",
    "        self.encodings = tokenizer(texts, truncation=True, padding=True, max_length=128)\n",
    "        self.labels = labels\n",
    "    \n",
    "    def __len__(self):\n",
    "        return len(self.labels)\n",
    "    \n",
    "    def __getitem__(self, idx):\n",
    "        item = {key: torch.tensor(val[idx]) for key, val in self.encodings.items()}\n",
    "        item['labels'] = torch.tensor(self.labels[idx])\n",
    "        return item"
   ],
   "id": "949cb53ee1d50be7",
   "outputs": [],
   "execution_count": 18
  },
  {
   "metadata": {
    "ExecuteTime": {
     "end_time": "2024-04-24T15:01:54.999803Z",
     "start_time": "2024-04-24T15:01:54.986652Z"
    }
   },
   "cell_type": "code",
   "source": [
    "train_texts = train['text'].tolist()\n",
    "train_labels = train['label'].tolist()\n",
    "dataset = TextDataset(train_texts, train_labels)\n",
    "dataloader = DataLoader(dataset, batch_size=BATCH_SIZE)\n",
    "\n",
    "valid_texts = valid['text'].tolist()\n",
    "valid_labels = valid['label'].tolist()\n",
    "valid_dataset = TextDataset(valid_texts, valid_labels)\n",
    "validation_dataloader = DataLoader(valid_dataset, batch_size=BATCH_SIZE)"
   ],
   "id": "cd8941b373617988",
   "outputs": [],
   "execution_count": 19
  },
  {
   "metadata": {
    "ExecuteTime": {
     "end_time": "2024-04-24T15:02:02.902968Z",
     "start_time": "2024-04-24T15:01:54.999803Z"
    }
   },
   "cell_type": "code",
   "source": [
    "metric = evaluate.combine([\"accuracy\", \"f1\", \"precision\", \"recall\"])\n",
    "\n",
    "def predict(val):\n",
    "    return (val > THRESHOLD).astype(int).reshape(-1)\n",
    "\n",
    "def compute_metrics(predictions, references):\n",
    "    return metric.compute(predictions=np.array(predictions).astype(bool).reshape(-1), references=np.array(references).astype(bool).reshape(-1))"
   ],
   "id": "7167b0dcd92c5852",
   "outputs": [],
   "execution_count": 20
  },
  {
   "metadata": {
    "ExecuteTime": {
     "end_time": "2024-04-24T15:02:02.908036Z",
     "start_time": "2024-04-24T15:02:02.902968Z"
    }
   },
   "cell_type": "code",
   "source": [
    "def validate(model, dataloader, device):\n",
    "    model.eval()\n",
    "    total_loss = 0\n",
    "    all_preds = []\n",
    "    all_labels = []\n",
    "    with torch.no_grad():\n",
    "        for batch in dataloader:\n",
    "            input_ids = batch['input_ids'].to(device)\n",
    "            attention_mask = batch['attention_mask'].to(device)\n",
    "            labels = batch['labels'].float().to(device)\n",
    "            outputs = model(input_ids, attention_mask=attention_mask)\n",
    "            \n",
    "            loss = criterion(outputs.logits, labels)\n",
    "            total_loss += loss.item()\n",
    "            \n",
    "            preds = torch.sigmoid(outputs.logits).cpu().numpy() > THRESHOLD\n",
    "            all_preds.extend(preds)\n",
    "            all_labels.extend(labels.cpu().numpy())\n",
    "    return total_loss / len(dataloader), compute_metrics(all_preds, all_labels)"
   ],
   "id": "b9f104f89282500a",
   "outputs": [],
   "execution_count": 21
  },
  {
   "metadata": {
    "ExecuteTime": {
     "end_time": "2024-04-24T15:02:29.360263Z",
     "start_time": "2024-04-24T15:02:02.908546Z"
    }
   },
   "cell_type": "code",
   "source": [
    "for epoch in range(NUM_EPOCHS):\n",
    "    print(f\"Epoch {epoch + 1}/{NUM_EPOCHS}\")\n",
    "    model.train()\n",
    "    for batch in tqdm(dataloader, desc=\"Training\"):\n",
    "        optimizer.zero_grad()\n",
    "        input_ids = batch['input_ids'].to(device)\n",
    "        attention_mask = batch['attention_mask'].to(device)\n",
    "        labels = batch['labels'].float().to(device)\n",
    "        outputs = model(input_ids, attention_mask=attention_mask)\n",
    "        loss = criterion(outputs.logits, labels)\n",
    "        loss.backward()\n",
    "        optimizer.step()\n",
    "         \n",
    "    validation_loss, scores = validate(model, validation_dataloader, device)\n",
    "    tqdm.write(f\"Training Loss: {loss.item():.4f}, Validation Loss: {validation_loss:.4f}, {', '.join(f\"{key}: {value:.4f}\" for key, value in scores.items())}\")\n",
    "    print()"
   ],
   "id": "e2d5e16214c8d918",
   "outputs": [
    {
     "name": "stdout",
     "output_type": "stream",
     "text": [
      "Epoch 1/16\n"
     ]
    },
    {
     "name": "stderr",
     "output_type": "stream",
     "text": [
      "Training: 100%|██████████| 13/13 [00:01<00:00,  7.64it/s]\n",
      "C:\\Users\\Danilmet\\PycharmProjects\\tg_bot\\venv\\Lib\\site-packages\\sklearn\\metrics\\_classification.py:1509: UndefinedMetricWarning: Precision is ill-defined and being set to 0.0 due to no predicted samples. Use `zero_division` parameter to control this behavior.\n",
      "  _warn_prf(average, modifier, f\"{metric.capitalize()} is\", len(result))\n"
     ]
    },
    {
     "name": "stdout",
     "output_type": "stream",
     "text": [
      "Training Loss: 0.5787, Validation Loss: 0.5001, accuracy: 0.6032, f1: 0.0000, precision: 0.0000, recall: 0.0000\n",
      "\n",
      "Epoch 2/16\n"
     ]
    },
    {
     "name": "stderr",
     "output_type": "stream",
     "text": [
      "Training: 100%|██████████| 13/13 [00:01<00:00,  8.80it/s]\n",
      "C:\\Users\\Danilmet\\PycharmProjects\\tg_bot\\venv\\Lib\\site-packages\\sklearn\\metrics\\_classification.py:1509: UndefinedMetricWarning: Precision is ill-defined and being set to 0.0 due to no predicted samples. Use `zero_division` parameter to control this behavior.\n",
      "  _warn_prf(average, modifier, f\"{metric.capitalize()} is\", len(result))\n"
     ]
    },
    {
     "name": "stdout",
     "output_type": "stream",
     "text": [
      "Training Loss: 0.4453, Validation Loss: 0.3895, accuracy: 0.6032, f1: 0.0000, precision: 0.0000, recall: 0.0000\n",
      "\n",
      "Epoch 3/16\n"
     ]
    },
    {
     "name": "stderr",
     "output_type": "stream",
     "text": [
      "Training: 100%|██████████| 13/13 [00:01<00:00,  8.82it/s]\n",
      "C:\\Users\\Danilmet\\PycharmProjects\\tg_bot\\venv\\Lib\\site-packages\\sklearn\\metrics\\_classification.py:1509: UndefinedMetricWarning: Precision is ill-defined and being set to 0.0 due to no predicted samples. Use `zero_division` parameter to control this behavior.\n",
      "  _warn_prf(average, modifier, f\"{metric.capitalize()} is\", len(result))\n"
     ]
    },
    {
     "name": "stdout",
     "output_type": "stream",
     "text": [
      "Training Loss: 0.2687, Validation Loss: 0.2985, accuracy: 0.6032, f1: 0.0000, precision: 0.0000, recall: 0.0000\n",
      "\n",
      "Epoch 4/16\n"
     ]
    },
    {
     "name": "stderr",
     "output_type": "stream",
     "text": [
      "Training: 100%|██████████| 13/13 [00:01<00:00,  8.61it/s]\n"
     ]
    },
    {
     "name": "stdout",
     "output_type": "stream",
     "text": [
      "Training Loss: 0.1630, Validation Loss: 0.2096, accuracy: 0.6667, f1: 0.2759, precision: 1.0000, recall: 0.1600\n",
      "\n",
      "Epoch 5/16\n"
     ]
    },
    {
     "name": "stderr",
     "output_type": "stream",
     "text": [
      "Training: 100%|██████████| 13/13 [00:01<00:00,  8.57it/s]\n"
     ]
    },
    {
     "name": "stdout",
     "output_type": "stream",
     "text": [
      "Training Loss: 0.1165, Validation Loss: 0.1542, accuracy: 0.7302, f1: 0.4848, precision: 1.0000, recall: 0.3200\n",
      "\n",
      "Epoch 6/16\n"
     ]
    },
    {
     "name": "stderr",
     "output_type": "stream",
     "text": [
      "Training: 100%|██████████| 13/13 [00:01<00:00,  8.56it/s]\n"
     ]
    },
    {
     "name": "stdout",
     "output_type": "stream",
     "text": [
      "Training Loss: 0.0861, Validation Loss: 0.1114, accuracy: 0.8571, f1: 0.7805, precision: 1.0000, recall: 0.6400\n",
      "\n",
      "Epoch 7/16\n"
     ]
    },
    {
     "name": "stderr",
     "output_type": "stream",
     "text": [
      "Training: 100%|██████████| 13/13 [00:01<00:00,  8.55it/s]\n"
     ]
    },
    {
     "name": "stdout",
     "output_type": "stream",
     "text": [
      "Training Loss: 0.0692, Validation Loss: 0.0796, accuracy: 0.9444, f1: 0.9247, precision: 1.0000, recall: 0.8600\n",
      "\n",
      "Epoch 8/16\n"
     ]
    },
    {
     "name": "stderr",
     "output_type": "stream",
     "text": [
      "Training: 100%|██████████| 13/13 [00:01<00:00,  8.61it/s]\n"
     ]
    },
    {
     "name": "stdout",
     "output_type": "stream",
     "text": [
      "Training Loss: 0.0609, Validation Loss: 0.0675, accuracy: 0.9762, f1: 0.9691, precision: 1.0000, recall: 0.9400\n",
      "\n",
      "Epoch 9/16\n"
     ]
    },
    {
     "name": "stderr",
     "output_type": "stream",
     "text": [
      "Training: 100%|██████████| 13/13 [00:01<00:00,  8.51it/s]\n"
     ]
    },
    {
     "name": "stdout",
     "output_type": "stream",
     "text": [
      "Training Loss: 0.0465, Validation Loss: 0.0645, accuracy: 0.9841, f1: 0.9796, precision: 1.0000, recall: 0.9600\n",
      "\n",
      "Epoch 10/16\n"
     ]
    },
    {
     "name": "stderr",
     "output_type": "stream",
     "text": [
      "Training: 100%|██████████| 13/13 [00:01<00:00,  8.78it/s]\n"
     ]
    },
    {
     "name": "stdout",
     "output_type": "stream",
     "text": [
      "Training Loss: 0.0435, Validation Loss: 0.0473, accuracy: 0.9921, f1: 0.9899, precision: 1.0000, recall: 0.9800\n",
      "\n",
      "Epoch 11/16\n"
     ]
    },
    {
     "name": "stderr",
     "output_type": "stream",
     "text": [
      "Training: 100%|██████████| 13/13 [00:01<00:00,  8.83it/s]\n"
     ]
    },
    {
     "name": "stdout",
     "output_type": "stream",
     "text": [
      "Training Loss: 0.0349, Validation Loss: 0.0398, accuracy: 0.9921, f1: 0.9899, precision: 1.0000, recall: 0.9800\n",
      "\n",
      "Epoch 12/16\n"
     ]
    },
    {
     "name": "stderr",
     "output_type": "stream",
     "text": [
      "Training: 100%|██████████| 13/13 [00:01<00:00,  8.39it/s]\n"
     ]
    },
    {
     "name": "stdout",
     "output_type": "stream",
     "text": [
      "Training Loss: 0.0292, Validation Loss: 0.0332, accuracy: 0.9921, f1: 0.9899, precision: 1.0000, recall: 0.9800\n",
      "\n",
      "Epoch 13/16\n"
     ]
    },
    {
     "name": "stderr",
     "output_type": "stream",
     "text": [
      "Training: 100%|██████████| 13/13 [00:01<00:00,  8.60it/s]\n"
     ]
    },
    {
     "name": "stdout",
     "output_type": "stream",
     "text": [
      "Training Loss: 0.0264, Validation Loss: 0.0313, accuracy: 0.9921, f1: 0.9899, precision: 1.0000, recall: 0.9800\n",
      "\n",
      "Epoch 14/16\n"
     ]
    },
    {
     "name": "stderr",
     "output_type": "stream",
     "text": [
      "Training: 100%|██████████| 13/13 [00:01<00:00,  8.73it/s]\n"
     ]
    },
    {
     "name": "stdout",
     "output_type": "stream",
     "text": [
      "Training Loss: 0.0240, Validation Loss: 0.0284, accuracy: 0.9921, f1: 0.9899, precision: 1.0000, recall: 0.9800\n",
      "\n",
      "Epoch 15/16\n"
     ]
    },
    {
     "name": "stderr",
     "output_type": "stream",
     "text": [
      "Training: 100%|██████████| 13/13 [00:01<00:00,  8.72it/s]\n"
     ]
    },
    {
     "name": "stdout",
     "output_type": "stream",
     "text": [
      "Training Loss: 0.0234, Validation Loss: 0.0256, accuracy: 0.9921, f1: 0.9899, precision: 1.0000, recall: 0.9800\n",
      "\n",
      "Epoch 16/16\n"
     ]
    },
    {
     "name": "stderr",
     "output_type": "stream",
     "text": [
      "Training: 100%|██████████| 13/13 [00:01<00:00,  8.46it/s]\n"
     ]
    },
    {
     "name": "stdout",
     "output_type": "stream",
     "text": [
      "Training Loss: 0.0193, Validation Loss: 0.0237, accuracy: 0.9921, f1: 0.9899, precision: 1.0000, recall: 0.9800\n",
      "\n"
     ]
    }
   ],
   "execution_count": 22
  },
  {
   "metadata": {
    "ExecuteTime": {
     "end_time": "2024-04-24T15:02:30.552044Z",
     "start_time": "2024-04-24T15:02:29.360263Z"
    }
   },
   "cell_type": "code",
   "source": [
    "tokenizer.save_pretrained(SAVE_DIRECTORY)\n",
    "model.save_pretrained(SAVE_DIRECTORY)"
   ],
   "id": "2d979c5c224f5b0f",
   "outputs": [],
   "execution_count": 23
  },
  {
   "metadata": {
    "ExecuteTime": {
     "end_time": "2024-04-24T15:02:35.822585Z",
     "start_time": "2024-04-24T15:02:30.552044Z"
    }
   },
   "cell_type": "code",
   "source": [
    "from transformers import pipeline\n",
    "\n",
    "MODEL_TASK = \"sentiment-analysis\"\n",
    "classifier = pipeline(MODEL_TASK, model=model, tokenizer=tokenizer, top_k=3)\n",
    "texts = test['text'].tolist()\n",
    "labels = test['label'].tolist()\n",
    "\n",
    "results = classifier(texts)"
   ],
   "id": "9a3020ec3a58bb5a",
   "outputs": [],
   "execution_count": 24
  },
  {
   "metadata": {
    "ExecuteTime": {
     "end_time": "2024-04-24T15:02:35.826094Z",
     "start_time": "2024-04-24T15:02:35.822585Z"
    }
   },
   "cell_type": "code",
   "source": [
    "counter = 0\n",
    "mapped_results = []\n",
    "\n",
    "for text, label, result in zip(texts, labels, results):\n",
    "    res = {el['label']: 1 if el['score'] > THRESHOLD else 0 for el in result}\n",
    "    mapped = [res['LABEL_0'], res['LABEL_1'], res['LABEL_2']]\n",
    "    mapped_results.append(mapped)\n",
    "    if mapped != label:\n",
    "        counter += 1\n",
    "        print(f\"Текст: {text}\")\n",
    "        print(f\"Предсказано: {mapped}, Значение: {label}, Результат: {result}\")\n",
    "        print()\n",
    "        \n",
    "print(f\"Всего ошибочно: {counter}\")"
   ],
   "id": "b71e651b6584fab1",
   "outputs": [
    {
     "name": "stdout",
     "output_type": "stream",
     "text": [
      "Текст: Как насчжёт кино вечером?\n",
      "Предсказано: [0, 0, 0], Значение: [0, 0, 1], Результат: [{'label': 'LABEL_2', 'score': 0.8348129391670227}, {'label': 'LABEL_1', 'score': 0.40166231989860535}, {'label': 'LABEL_0', 'score': 0.0037557545583695173}]\n",
      "\n",
      "Текст: Нормально?\n",
      "Предсказано: [0, 0, 0], Значение: [0, 0, 1], Результат: [{'label': 'LABEL_1', 'score': 0.7760507464408875}, {'label': 'LABEL_2', 'score': 0.2226688712835312}, {'label': 'LABEL_0', 'score': 0.007004767190665007}]\n",
      "\n",
      "Всего ошибочно: 2\n"
     ]
    }
   ],
   "execution_count": 25
  },
  {
   "metadata": {
    "ExecuteTime": {
     "end_time": "2024-04-24T15:02:35.852624Z",
     "start_time": "2024-04-24T15:02:35.826604Z"
    }
   },
   "cell_type": "code",
   "source": "', '.join(f\"{key}: {value:.4f}\" for key, value in metric.compute(predictions=np.array(mapped_results).reshape(-1), references=np.array(labels).reshape(-1)).items())",
   "id": "5edfa240f1934f98",
   "outputs": [
    {
     "data": {
      "text/plain": [
       "'accuracy: 0.9841, f1: 0.9792, precision: 1.0000, recall: 0.9592'"
      ]
     },
     "execution_count": 26,
     "metadata": {},
     "output_type": "execute_result"
    }
   ],
   "execution_count": 26
  }
 ],
 "metadata": {
  "kernelspec": {
   "display_name": "Python 3",
   "language": "python",
   "name": "python3"
  },
  "language_info": {
   "codemirror_mode": {
    "name": "ipython",
    "version": 2
   },
   "file_extension": ".py",
   "mimetype": "text/x-python",
   "name": "python",
   "nbconvert_exporter": "python",
   "pygments_lexer": "ipython2",
   "version": "2.7.6"
  }
 },
 "nbformat": 4,
 "nbformat_minor": 5
}
